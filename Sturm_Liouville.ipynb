{
  "cells": [
    {
      "cell_type": "markdown",
      "metadata": {
        "id": "view-in-github",
        "colab_type": "text"
      },
      "source": [
        "<a href=\"https://colab.research.google.com/github/Annette-1/Ecuaciones_Diferenciales_Parciales/blob/main/Sturm_Liouville.ipynb\" target=\"_parent\"><img src=\"https://colab.research.google.com/assets/colab-badge.svg\" alt=\"Open In Colab\"/></a>"
      ]
    },
    {
      "cell_type": "markdown",
      "source": [
        "# <span style=\"color:orange;\">Problemas de Sturm-Liouville con el uso de  SymPy (Python)</span>"
      ],
      "metadata": {
        "id": "EmsufRaGZHrM"
      }
    },
    {
      "cell_type": "markdown",
      "source": [
        "## <span style=\"color:brown;\">Resolver la ecuación diferencial\n",
        "\n",
        "1. $X''+ λX=0 \\quad X(0)=X(1)=0$\n",
        "2. $X''+ λX=0 \\quad X'(0)=X'(1)=0$</span>\n",
        "\n",
        "\n",
        "\n"
      ],
      "metadata": {
        "id": "ZQztNbpXRFi8"
      }
    },
    {
      "cell_type": "markdown",
      "source": [
        "importamos librerias"
      ],
      "metadata": {
        "id": "nBa5ulwKRFtY"
      }
    },
    {
      "cell_type": "code",
      "source": [
        "from sympy import *\n",
        "import sympy as sp\n",
        "import numpy as np\n",
        "import matplotlib.pyplot as plt\n"
      ],
      "metadata": {
        "id": "CY2Ixu6gRIyK"
      },
      "execution_count": 5,
      "outputs": []
    },
    {
      "cell_type": "markdown",
      "source": [
        "Definir símbolos\n"
      ],
      "metadata": {
        "id": "BU7TA8lyRNdV"
      }
    },
    {
      "cell_type": "code",
      "source": [
        "x = sp.symbols('x')\n",
        "k = sp.pi**2  # valor de k elegido\n",
        "X = sp.Function('X')\n",
        "C1, C2 = sp.symbols('C1 C2')\n"
      ],
      "metadata": {
        "id": "LP0sVBs4RNq1"
      },
      "execution_count": 6,
      "outputs": []
    },
    {
      "cell_type": "markdown",
      "source": [
        "EDO general\n"
      ],
      "metadata": {
        "id": "NSO5dia-RVe0"
      }
    },
    {
      "cell_type": "code",
      "source": [
        "ode = sp.Eq(X(x).diff(x, 2) + k*X(x), 0)\n"
      ],
      "metadata": {
        "id": "EARo91MFRX-z"
      },
      "execution_count": 7,
      "outputs": []
    },
    {
      "cell_type": "markdown",
      "source": [
        " * Problema 1: $X(0)=0, X(1)=0 $\n",
        "\n",
        "\n"
      ],
      "metadata": {
        "id": "B6TqzB9UReQS"
      }
    },
    {
      "cell_type": "code",
      "source": [
        "sol1 = sp.dsolve(ode, X(x))\n",
        "Xsol1 = sol1.rhs\n",
        "sol1"
      ],
      "metadata": {
        "id": "nTzR1sOHRiYD",
        "outputId": "709a4fb2-1160-4416-c158-2351ad254d6b",
        "colab": {
          "base_uri": "https://localhost:8080/",
          "height": 38
        }
      },
      "execution_count": 23,
      "outputs": [
        {
          "output_type": "execute_result",
          "data": {
            "text/plain": [
              "Eq(X(x), C1*sin(pi*x) + C2*cos(pi*x))"
            ],
            "text/latex": "$\\displaystyle X{\\left(x \\right)} = C_{1} \\sin{\\left(\\pi x \\right)} + C_{2} \\cos{\\left(\\pi x \\right)}$"
          },
          "metadata": {},
          "execution_count": 23
        }
      ]
    },
    {
      "cell_type": "markdown",
      "source": [
        "Aplicar condiciones\n",
        "$x(0)=x(1)=0$"
      ],
      "metadata": {
        "id": "HV7CfYW9Rln2"
      }
    },
    {
      "cell_type": "code",
      "source": [
        "conds1 = [\n",
        "    Xsol1.subs(x, 0),\n",
        "    Xsol1.subs(x, 1)\n",
        "]\n",
        "sol_c1 = sp.solve(conds1, (C1, C2))\n",
        "Xsol1 = Xsol1 = Xsol1.subs(sol_c1).subs(C1, 1) # C2 es la constante libre\n",
        "\n",
        "Xsol1"
      ],
      "metadata": {
        "id": "9qHrjecMTJsw",
        "outputId": "157ffb07-eb87-4d40-e414-eac9dff70aa4",
        "colab": {
          "base_uri": "https://localhost:8080/",
          "height": 38
        }
      },
      "execution_count": 24,
      "outputs": [
        {
          "output_type": "execute_result",
          "data": {
            "text/plain": [
              "sin(pi*x)"
            ],
            "text/latex": "$\\displaystyle \\sin{\\left(\\pi x \\right)}$"
          },
          "metadata": {},
          "execution_count": 24
        }
      ]
    },
    {
      "cell_type": "markdown",
      "source": [
        "función para graficar"
      ],
      "metadata": {
        "id": "R-kGxa79Rvek"
      }
    },
    {
      "cell_type": "code",
      "source": [
        "func1 = sp.lambdify(x, Xsol1, 'numpy')\n",
        "xx = np.linspace(0, 1, 200)\n",
        "yy1 = func1(xx)\n"
      ],
      "metadata": {
        "id": "R2Rlk-8pRyya"
      },
      "execution_count": 25,
      "outputs": []
    },
    {
      "cell_type": "markdown",
      "source": [
        "* Problema 2: X'(0)=0, X'(1)=0"
      ],
      "metadata": {
        "id": "fo3K26BuR1fG"
      }
    },
    {
      "cell_type": "code",
      "source": [
        "sol2 = sp.dsolve(ode, X(x))\n",
        "Xsol2 = sol2.rhs\n",
        "dXsol2 = Xsol2.diff(x)\n",
        "sol2"
      ],
      "metadata": {
        "id": "3cN0rAb_R4hH",
        "outputId": "3cc4e549-dda2-4cb5-da77-eb6004a8e88d",
        "colab": {
          "base_uri": "https://localhost:8080/",
          "height": 38
        }
      },
      "execution_count": 26,
      "outputs": [
        {
          "output_type": "execute_result",
          "data": {
            "text/plain": [
              "Eq(X(x), C1*sin(pi*x) + C2*cos(pi*x))"
            ],
            "text/latex": "$\\displaystyle X{\\left(x \\right)} = C_{1} \\sin{\\left(\\pi x \\right)} + C_{2} \\cos{\\left(\\pi x \\right)}$"
          },
          "metadata": {},
          "execution_count": 26
        }
      ]
    },
    {
      "cell_type": "code",
      "source": [
        "conds2 = [\n",
        "    dXsol2.subs(x, 0),  # X'(0) = 0\n",
        "    dXsol2.subs(x, 1)   # X'(1) = 0\n",
        "]\n",
        "sol_c2 = sp.solve(conds2, (C1, C2))\n",
        "# Sustituir soluciones y asignar valor a la constante restante\n",
        "Xsol2 = Xsol2.subs(sol_c2).subs(C2, 1)  # C1 es la constante libre\n",
        "Xsol2"
      ],
      "metadata": {
        "id": "-PpbauAoR-U2",
        "outputId": "43cfd6b6-2adc-4f10-d52c-8705e4251b29",
        "colab": {
          "base_uri": "https://localhost:8080/",
          "height": 38
        }
      },
      "execution_count": 27,
      "outputs": [
        {
          "output_type": "execute_result",
          "data": {
            "text/plain": [
              "cos(pi*x)"
            ],
            "text/latex": "$\\displaystyle \\cos{\\left(\\pi x \\right)}$"
          },
          "metadata": {},
          "execution_count": 27
        }
      ]
    },
    {
      "cell_type": "markdown",
      "source": [
        "función para graficar"
      ],
      "metadata": {
        "id": "cGOrGLI0SBK_"
      }
    },
    {
      "cell_type": "code",
      "source": [
        "func2 = sp.lambdify(x, Xsol2, 'numpy')\n",
        "xx = np.linspace(0, 2, 200)\n",
        "yy2 = func2(xx)\n"
      ],
      "metadata": {
        "id": "N59IPcHxSDvn"
      },
      "execution_count": 28,
      "outputs": []
    },
    {
      "cell_type": "markdown",
      "source": [
        "graficas"
      ],
      "metadata": {
        "id": "SsMA3RIvSGLQ"
      }
    },
    {
      "cell_type": "code",
      "source": [
        "plt.figure(figsize=(10,5))\n",
        "\n",
        "plt.subplot(1,2,1)\n",
        "plt.plot(xx, yy1, 'r', label='Problema 1')\n",
        "plt.title(\"X'' + kX = 0, X(0)=X(1)=0\")\n",
        "plt.xlabel('x')\n",
        "plt.ylabel('X(x)')\n",
        "plt.grid(True)\n",
        "plt.legend()\n",
        "\n",
        "plt.subplot(1,2,2)\n",
        "plt.plot(xx, yy2, 'b', label='Problema 2')\n",
        "plt.title(\"X'' + kX = 0, X'(0)=X'(1)=0\")\n",
        "plt.xlabel('x')\n",
        "plt.ylabel('X(x)')\n",
        "plt.grid(True)\n",
        "plt.legend()\n",
        "\n",
        "plt.tight_layout()\n",
        "plt.show()"
      ],
      "metadata": {
        "id": "usKwtaHgWqU5",
        "outputId": "4b259dea-1ed2-4dd1-a8de-806ba731c140",
        "colab": {
          "base_uri": "https://localhost:8080/",
          "height": 507
        }
      },
      "execution_count": 29,
      "outputs": [
        {
          "output_type": "display_data",
          "data": {
            "text/plain": [
              "<Figure size 1000x500 with 2 Axes>"
            ],
            "image/png": "[encoded data removed]"
          },
          "metadata": {}
        }
      ]
    }
  ],
  "metadata": {
    "colab": {
      "provenance": [],
      "include_colab_link": true
    },
    "kernelspec": {
      "display_name": "Python 3",
      "name": "python3"
    }
  },
  "nbformat": 4,
  "nbformat_minor": 0
}