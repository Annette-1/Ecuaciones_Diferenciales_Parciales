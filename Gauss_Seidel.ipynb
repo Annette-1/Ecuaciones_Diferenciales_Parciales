{
  "nbformat": 4,
  "nbformat_minor": 0,
  "metadata": {
    "colab": {
      "provenance": [],
      "authorship_tag": "ABX9TyPcauNW+qsIy5DR0AZES2+B",
      "include_colab_link": true
    },
    "kernelspec": {
      "name": "python3",
      "display_name": "Python 3"
    },
    "language_info": {
      "name": "python"
    }
  },
  "cells": [
    {
      "cell_type": "markdown",
      "metadata": {
        "id": "view-in-github",
        "colab_type": "text"
      },
      "source": [
        "<a href=\"https://colab.research.google.com/github/Annette-1/Ecuaciones_Diferenciales_Parciales/blob/main/Gauss_Seidel.ipynb\" target=\"_parent\"><img src=\"https://colab.research.google.com/assets/colab-badge.svg\" alt=\"Open In Colab\"/></a>"
      ]
    },
    {
      "cell_type": "markdown",
      "source": [
        "#<span style=\"color:blue;\">**Metódo de Gauss-Seidel**</span>\n",
        "\n",
        "\n",
        "Aplicamos el metódo de Gauss-Seidel para el siguiente sistema de ecuaciones obtenidas de resolver el <span style=\"color:magenta;\">**Problema de Dirichlet**</span>\n",
        " :\n",
        "\n",
        "* $-4x_1 + x_2 + x_4 = 0 $\n",
        "* $x_1 - 4x_2 + x_3 + x_5 = 0 $\n",
        "* $x_2 - 4x_3 + x_6 = -0.75 $\n",
        "* $x_1 - 4x_4 + x_5 + x_7 = 0 $\n",
        "* $x_2 + x_4 - 4x_5 + x_6 + x_8 = 0 $\n",
        "* $x_3 + x_5 - 4x_6 + x_9 = -1 $\n",
        "* $x_4 - 4x_7 + x_8 = -0.5 $\n",
        "* $x_5 + x_7 - 4x_8 + x_9 = -1 $\n",
        "* $x_6 + x_8 - 4x_9 = -1.25$\n",
        "\n",
        "\n"
      ],
      "metadata": {
        "id": "iFC0xl3XD7EI"
      }
    },
    {
      "cell_type": "markdown",
      "source": [
        "Despejando una incognita de cada ecuación\n",
        "\n",
        "\\begin{align*}\n",
        "x_1 &= \\frac{x_2 + x_4}{4} \\\\\n",
        "x_2 &= \\frac{x_1 + x_3 + x_5}{4} \\\\\n",
        "x_3 &= \\frac{x_2 + x_6 + 0.75}{4} \\\\\n",
        "x_4 &= \\frac{x_1 + x_5 + x_7}{4} \\\\\n",
        "x_5 &= \\frac{x_2 + x_4 + x_6 + x_8}{4} \\\\\n",
        "x_6 &= \\frac{x_3 + x_5 + x_9 + 1}{4} \\\\\n",
        "x_7 &= \\frac{x_4 + x_8 + 0.5}{4} \\\\\n",
        "x_8 &= \\frac{x_5 + x_7 + x_9 + 1}{4} \\\\\n",
        "x_9 &= \\frac{x_6 + x_8 + 1.25}{4}\n",
        "\\end{align*}\n",
        "\n",
        "\n",
        "Con el vector inicial\n",
        "\n",
        "$x_0 = ([\\frac{9}{32},\\frac{9}{32},\\frac{9}{32},\\frac{9}{32},\\frac{9}{32},\\frac{9}{32},\\frac{9}{32},\\frac{9}{32},\\frac{9}{32}])$\n",
        "\n",
        "Este vector se obtiene de sacar el promedio de los valores de la frontera del <span style=\"color:magenta;\">**Problema de Dirichlet**</span>"
      ],
      "metadata": {
        "id": "sCwO2V2gQgJy"
      }
    },
    {
      "cell_type": "markdown",
      "source": [
        "<span style=\"color:cyan;\">*Algoritmo*</span>\n",
        "\n",
        "Método de Gauss-Seidel para resolver sistemas de ecuaciones lineales\n",
        "    \n",
        "    Parámetros:\n",
        "    A: matriz de coeficientes\n",
        "    b: vector de términos independientes\n",
        "    x0: aproximación inicial\n",
        "    tol: tolerancia para la convergencia\n",
        "    max_iter: número máximo de iteraciones\n",
        "    \n",
        "    Retorna:\n",
        "    x: solución aproximada\n",
        "    history: historial de iteraciones"
      ],
      "metadata": {
        "id": "lNNSjnu0Evxt"
      }
    },
    {
      "cell_type": "code",
      "execution_count": 10,
      "metadata": {
        "id": "tayZha6qD6dK"
      },
      "outputs": [],
      "source": [
        "import numpy as np"
      ]
    },
    {
      "cell_type": "markdown",
      "source": [
        "Definimos la función para el metódo de Gauss-Seidel"
      ],
      "metadata": {
        "id": "EJ6y9LfWFAoW"
      }
    },
    {
      "cell_type": "code",
      "source": [
        "def gauss_seidel_method(A, b, x0, tol=1e-6, max_iter=100):\n",
        "    n = len(b)\n",
        "    x = np.copy(x0)\n",
        "    x_old = np.copy(x0)\n",
        "    history = []\n",
        "\n",
        "    print(\"Método de Gauss-Seidel\")\n",
        "    print(\"Iteración |\", \" | \".join([f\"x{i+1}\" for i in range(n)]), \"| Error\")\n",
        "    print(\"-\" * 70)\n",
        "\n",
        "    for k in range(max_iter):\n",
        "        # Guardar valores anteriores para calcular el error\n",
        "        x_old = np.copy(x)\n",
        "\n",
        "        # Calcular nueva aproximación (usando valores actualizados)\n",
        "        for i in range(n):\n",
        "            suma = 0\n",
        "            # Suma de j=1 hasta i-1 (usando valores ya actualizados)\n",
        "            for j in range(i):\n",
        "                suma += A[i, j] * x[j]\n",
        "            # Suma de j=i+1 hasta n (usando valores anteriores)\n",
        "            for j in range(i+1, n):\n",
        "                suma += A[i, j] * x_old[j]\n",
        "\n",
        "            x[i] = (b[i] - suma) / A[i, i]\n",
        "\n",
        "        # Calcular error (norma infinito)\n",
        "        error = np.linalg.norm(x - x_old, np.inf)\n",
        "\n",
        "        # Guardar historial\n",
        "        history.append({\n",
        "            'iteration': k + 1,\n",
        "            'x': np.copy(x),\n",
        "            'error': error\n",
        "        })\n",
        "\n",
        "        # Imprimir resultados de la iteración actual\n",
        "        x_values = \" | \".join([f\"{val:.8f}\" for val in x])\n",
        "        print(f\"{k+1:9d} | {x_values} | {error:.8e}\")\n",
        "\n",
        "        # Verificar convergencia\n",
        "        if error < tol:\n",
        "            print(\"\\n¡Convergencia alcanzada!\")\n",
        "            return x, history\n",
        "\n",
        "        # Actualizar para la siguiente iteración\n",
        "        x_old = np.copy(x)\n",
        "\n",
        "    print(\"\\n¡Número máximo de iteraciones alcanzado!\")\n",
        "    return x, history"
      ],
      "metadata": {
        "id": "dgrDXhBtFLL2"
      },
      "execution_count": 11,
      "outputs": []
    },
    {
      "cell_type": "markdown",
      "source": [
        "Definimos el sistema de ecuaciones:\n",
        "\n",
        "$\n",
        "\\begin{align*}\n",
        "x_1 &= \\frac{x_2 + x_4}{4} \\\\\n",
        "x_2 &= \\frac{x_1 + x_3 + x_5}{4} \\\\\n",
        "x_3 &= \\frac{x_2 + x_6 + 0.75}{4} \\\\\n",
        "x_4 &= \\frac{x_1 + x_5 + x_7}{4} \\\\\n",
        "x_5 &= \\frac{x_2 + x_4 + x_6 + x_8}{4} \\\\\n",
        "x_6 &= \\frac{x_3 + x_5 + x_9 + 1}{4} \\\\\n",
        "x_7 &= \\frac{x_4 + x_8 + 0.5}{4} \\\\\n",
        "x_8 &= \\frac{x_5 + x_7 + x_9 + 1}{4} \\\\\n",
        "x_9 &= \\frac{x_6 + x_8 + 1.25}{4}\n",
        "\\end{align*}\n",
        "$\n",
        "\n",
        "Y lo Reescribimos en forma matricial: $A x = b$"
      ],
      "metadata": {
        "id": "4qFkmiJlFWXV"
      }
    },
    {
      "cell_type": "code",
      "source": [
        "A = np.array([\n",
        "    [4,-1, 0,-1,0, 0,0,0,0],\n",
        "    [-1,4,-1, 0,-1, 0,0,0,0],\n",
        "    [0,-1, 4, 0, 0,-1,0,0,0],\n",
        "    [-1,0, 0, 4,-1 ,0,-1,0,0],\n",
        "    [0,-1, 0,-1, 4,-1,0,-1,0],\n",
        "    [0, 0,-1, 0,-1, 4,0,0,-1],\n",
        "    [0, 0, 0,-1, 0, 0,4,-1,0],\n",
        "    [0, 0, 0, 0,-1 ,0,-1,4,-1],\n",
        "    [0, 0, 0, 0, 0,-1,0,-1,4]\n",
        "])\n",
        "\n",
        "b = np.array([0,0,0.75,0,0,1,0.5,1,1.25])"
      ],
      "metadata": {
        "id": "nC6I8EZ9FmFB"
      },
      "execution_count": 12,
      "outputs": []
    },
    {
      "cell_type": "markdown",
      "source": [
        "Tomamos el vector inicial\n",
        "\n",
        "$x_0 = ([\\frac{9}{32},\\frac{9}{32},\\frac{9}{32},\\frac{9}{32},\\frac{9}{32},\\frac{9}{32},\\frac{9}{32},\\frac{9}{32},\\frac{9}{32}])$"
      ],
      "metadata": {
        "id": "ZUfXGeywFpES"
      }
    },
    {
      "cell_type": "code",
      "source": [
        "x0 = np.array([9/32, 9/32 ,9/32 , 9/32, 9/32, 9/32, 9/32, 9/32, 9/32])"
      ],
      "metadata": {
        "id": "0qLQRiv7FwgX"
      },
      "execution_count": 4,
      "outputs": []
    },
    {
      "cell_type": "markdown",
      "source": [
        "Mostramos información del problema"
      ],
      "metadata": {
        "id": "v6h0j3LpF1H1"
      }
    },
    {
      "cell_type": "code",
      "source": [
        "# Mostrar información del problema\n",
        "print(\"SISTEMA DE LAPLACE DISCRETIZADO\")\n",
        "print(\"=\" * 80)\n",
        "print(\"Ecuaciones del sistema:\")\n",
        "print(\"1: -4x1 + x2 + x4 = 0\")\n",
        "print(\"2: x1 - 4x2 + x3 + x5 = 0\")\n",
        "print(\"3: x2 - 4x3 + x6 = -0.75\")\n",
        "print(\"4: x1 - 4x4 + x5 + x7 = 0\")\n",
        "print(\"5: x2 + x4 - 4x5 + x6 + x8 = 0\")\n",
        "print(\"6: x3 + x5 - 4x6 + x9 = -1\")\n",
        "print(\"7: x4 - 4x7 + x8 = -0.5\")\n",
        "print(\"8: x5 + x7 - 4x8 + x9 = -1\")\n",
        "print(\"9: x6 + x8 - 4x9 = -1.25\")\n",
        "print(f\"\\nVector inicial: x⁰ = [{', '.join([f'{val:.1f}' for val in x0])}]\")\n",
        "print(\"\\n\" + \"=\" * 70)"
      ],
      "metadata": {
        "colab": {
          "base_uri": "https://localhost:8080/"
        },
        "id": "sJQbLXqwFyR1",
        "outputId": "6d664d5a-f194-4e0f-abc4-d591a3eecafe"
      },
      "execution_count": 13,
      "outputs": [
        {
          "output_type": "stream",
          "name": "stdout",
          "text": [
            "SISTEMA DE LAPLACE DISCRETIZADO\n",
            "================================================================================\n",
            "Ecuaciones del sistema:\n",
            "1: -4x1 + x2 + x4 = 0\n",
            "2: x1 - 4x2 + x3 + x5 = 0\n",
            "3: x2 - 4x3 + x6 = -0.75\n",
            "4: x1 - 4x4 + x5 + x7 = 0\n",
            "5: x2 + x4 - 4x5 + x6 + x8 = 0\n",
            "6: x3 + x5 - 4x6 + x9 = -1\n",
            "7: x4 - 4x7 + x8 = -0.5\n",
            "8: x5 + x7 - 4x8 + x9 = -1\n",
            "9: x6 + x8 - 4x9 = -1.25\n",
            "\n",
            "Vector inicial: x⁰ = [0.3, 0.3, 0.3, 0.3, 0.3, 0.3, 0.3, 0.3, 0.3]\n",
            "\n",
            "======================================================================\n"
          ]
        }
      ]
    },
    {
      "cell_type": "markdown",
      "source": [
        "Resolver usando Gauss-Seidel"
      ],
      "metadata": {
        "id": "QluYKfksF5Ie"
      }
    },
    {
      "cell_type": "code",
      "source": [
        "solucion, historial = gauss_seidel_method(A, b, x0, tol=1e-6, max_iter=20)\n",
        "\n",
        "# Mostrar solución final\n",
        "print(\"\\nSolución final:\")\n",
        "for i, val in enumerate(solucion):\n",
        "    print(f\"x{i+1} = {val:.8f}\")\n",
        "\n",
        "# Verificar la solución\n",
        "print(\"\\nVerificación (A*x - b):\")\n",
        "residual = np.dot(A, solucion) - b\n",
        "for i, val in enumerate(residual):\n",
        "    print(f\"Ecuación {i+1}: {val:.2e}\")\n",
        "\n",
        "# Mostrar comparación con el vector inicial\n",
        "print(f\"\\nComparación con vector inicial:\")\n",
        "print(f\"x⁰ = [{x0[0]:.6f}, {x0[1]:.6f}, {x0[2]:.6f}, {x0[3]:.6f}, {x0[4]:.6f}, {x0[5]:.6f}, {x0[6]:.6f}, {x0[7]:.6f}, {x0[8]:.6f}]\")\n",
        "print(f\"x  = [{solucion[0]:.6f}, {solucion[1]:.6f}, {solucion[2]:.6f}, {solucion[3]:.6f},{solucion[4]:.6f},{solucion[5]:.6f},{solucion[6]:.6f},{solucion[7]:.6f},{solucion[8]:.6f}]\")"
      ],
      "metadata": {
        "colab": {
          "base_uri": "https://localhost:8080/"
        },
        "id": "SGx7f6jPF7iF",
        "outputId": "5093d4ce-42d5-471a-97a9-658e61e2ca65"
      },
      "execution_count": 14,
      "outputs": [
        {
          "output_type": "stream",
          "name": "stdout",
          "text": [
            "Método de Gauss-Seidel\n",
            "Iteración | x1 | x2 | x3 | x4 | x5 | x6 | x7 | x8 | x9 | Error\n",
            "----------------------------------------------------------------------\n",
            "        1 | 0.14062500 | 0.17578125 | 0.30175781 | 0.17578125 | 0.22851562 | 0.45288086 | 0.23925781 | 0.43725586 | 0.53503418 | 2.53784180e-01\n",
            "        2 | 0.08789062 | 0.15454102 | 0.33935547 | 0.13891602 | 0.29589844 | 0.54257202 | 0.26904297 | 0.52499390 | 0.57939148 | 8.96911621e-02\n",
            "        3 | 0.07336426 | 0.17715454 | 0.36743164 | 0.15957642 | 0.35107422 | 0.57447433 | 0.29614258 | 0.55665207 | 0.59528160 | 5.51757812e-02\n",
            "        4 | 0.08418274 | 0.20067215 | 0.38128662 | 0.18284988 | 0.37866211 | 0.58880758 | 0.30987549 | 0.57095480 | 0.60244060 | 2.75878906e-02\n",
            "        5 | 0.09588051 | 0.21395731 | 0.38819122 | 0.19610453 | 0.39245605 | 0.59577197 | 0.31676483 | 0.57791537 | 0.60592183 | 1.37939453e-02\n",
            "        6 | 0.10251546 | 0.22079068 | 0.39164066 | 0.20293409 | 0.39935303 | 0.59922888 | 0.32021236 | 0.58137181 | 0.60765017 | 6.89697266e-03\n",
            "        7 | 0.10593119 | 0.22423122 | 0.39336503 | 0.20637415 | 0.40280151 | 0.60095418 | 0.32193649 | 0.58309704 | 0.60851281 | 3.44848633e-03\n",
            "        8 | 0.10765134 | 0.22595447 | 0.39422716 | 0.20809734 | 0.40452576 | 0.60181643 | 0.32279859 | 0.58395929 | 0.60894393 | 1.72424316e-03\n",
            "        9 | 0.10851295 | 0.22681647 | 0.39465822 | 0.20895933 | 0.40538788 | 0.60224751 | 0.32322965 | 0.58439037 | 0.60915947 | 8.62121582e-04\n",
            "       10 | 0.10894395 | 0.22724751 | 0.39487376 | 0.20939037 | 0.40581894 | 0.60246304 | 0.32344518 | 0.58460590 | 0.60926723 | 4.31060791e-04\n",
            "       11 | 0.10915947 | 0.22746304 | 0.39498152 | 0.20960590 | 0.40603447 | 0.60257081 | 0.32355295 | 0.58471366 | 0.60932112 | 2.15530396e-04\n",
            "       12 | 0.10926723 | 0.22757081 | 0.39503540 | 0.20971366 | 0.40614223 | 0.60262469 | 0.32360683 | 0.58476755 | 0.60934806 | 1.07765198e-04\n",
            "       13 | 0.10932112 | 0.22762469 | 0.39506234 | 0.20976755 | 0.40619612 | 0.60265163 | 0.32363377 | 0.58479449 | 0.60936153 | 5.38825989e-05\n",
            "       14 | 0.10934806 | 0.22765163 | 0.39507582 | 0.20979449 | 0.40622306 | 0.60266510 | 0.32364724 | 0.58480796 | 0.60936826 | 2.69412994e-05\n",
            "       15 | 0.10936153 | 0.22766510 | 0.39508255 | 0.20980796 | 0.40623653 | 0.60267184 | 0.32365398 | 0.58481469 | 0.60937163 | 1.34706497e-05\n",
            "       16 | 0.10936826 | 0.22767184 | 0.39508592 | 0.20981469 | 0.40624326 | 0.60267520 | 0.32365735 | 0.58481806 | 0.60937332 | 6.73532486e-06\n",
            "       17 | 0.10937163 | 0.22767520 | 0.39508760 | 0.20981806 | 0.40624663 | 0.60267689 | 0.32365903 | 0.58481974 | 0.60937416 | 3.36766243e-06\n",
            "       18 | 0.10937332 | 0.22767689 | 0.39508844 | 0.20981974 | 0.40624832 | 0.60267773 | 0.32365987 | 0.58482059 | 0.60937458 | 1.68383121e-06\n",
            "       19 | 0.10937416 | 0.22767773 | 0.39508886 | 0.20982059 | 0.40624916 | 0.60267815 | 0.32366029 | 0.58482101 | 0.60937479 | 8.41915607e-07\n",
            "\n",
            "¡Convergencia alcanzada!\n",
            "\n",
            "Solución final:\n",
            "x1 = 0.10937416\n",
            "x2 = 0.22767773\n",
            "x3 = 0.39508886\n",
            "x4 = 0.20982059\n",
            "x5 = 0.40624916\n",
            "x6 = 0.60267815\n",
            "x7 = 0.32366029\n",
            "x8 = 0.58482101\n",
            "x9 = 0.60937479\n",
            "\n",
            "Verificación (A*x - b):\n",
            "Ecuación 1: -1.68e-06\n",
            "Ecuación 2: -1.26e-06\n",
            "Ecuación 3: -4.21e-07\n",
            "Ecuación 4: -1.26e-06\n",
            "Ecuación 5: -8.42e-07\n",
            "Ecuación 6: -2.10e-07\n",
            "Ecuación 7: -4.21e-07\n",
            "Ecuación 8: -2.10e-07\n",
            "Ecuación 9: 0.00e+00\n",
            "\n",
            "Comparación con vector inicial:\n",
            "x⁰ = [0.281250, 0.281250, 0.281250, 0.281250, 0.281250, 0.281250, 0.281250, 0.281250, 0.281250]\n",
            "x  = [0.109374, 0.227678, 0.395089, 0.209821,0.406249,0.602678,0.323660,0.584821,0.609375]\n"
          ]
        }
      ]
    },
    {
      "cell_type": "markdown",
      "source": [
        "Análisis de convergencia"
      ],
      "metadata": {
        "id": "cRBupA1wGAHG"
      }
    },
    {
      "cell_type": "code",
      "source": [
        "print(f\"\\nAnálisis de convergencia:\")\n",
        "print(f\"Iteraciones necesarias: {len(historial)}\")\n",
        "print(f\"Error final: {historial[-1]['error']:.2e}\")"
      ],
      "metadata": {
        "colab": {
          "base_uri": "https://localhost:8080/"
        },
        "id": "zGDow0geGCSG",
        "outputId": "cba0736a-fc33-44c3-f03e-e4d143ec9617"
      },
      "execution_count": 15,
      "outputs": [
        {
          "output_type": "stream",
          "name": "stdout",
          "text": [
            "\n",
            "Análisis de convergencia:\n",
            "Iteraciones necesarias: 19\n",
            "Error final: 8.42e-07\n"
          ]
        }
      ]
    }
  ]
}