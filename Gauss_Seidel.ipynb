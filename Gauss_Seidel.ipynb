{
  "nbformat": 4,
  "nbformat_minor": 0,
  "metadata": {
    "colab": {
      "provenance": [],
      "authorship_tag": "ABX9TyPChJmxXHd/wAt88lsd2QNj",
      "include_colab_link": true
    },
    "kernelspec": {
      "name": "python3",
      "display_name": "Python 3"
    },
    "language_info": {
      "name": "python"
    }
  },
  "cells": [
    {
      "cell_type": "markdown",
      "metadata": {
        "id": "view-in-github",
        "colab_type": "text"
      },
      "source": [
        "<a href=\"https://colab.research.google.com/github/Annette-1/Ecuaciones_Diferenciales_Parciales/blob/main/Gauss_Seidel.ipynb\" target=\"_parent\"><img src=\"https://colab.research.google.com/assets/colab-badge.svg\" alt=\"Open In Colab\"/></a>"
      ]
    },
    {
      "cell_type": "markdown",
      "source": [
        "#<span style=\"color:blue;\">**Metódo de Gauss-Seidel**</span>\n",
        "\n",
        "\n",
        "Aplicamos el metódo de Gauss-Seidel para el siguiente sistema de ecuaciones obtenidas de resolver el <span style=\"color:magenta;\">**Problema de Dirichlet**</span>\n",
        " :\n",
        "\n",
        "*   $x_1 = \\frac{1}{4} x_2 +\\frac{1}{4}x_3$\n",
        "*   $x_2 = \\frac{1}{4} x_1 +\\frac{1}{4}x_4 + \\frac{2}{9}$\n",
        "*   $x_3 = \\frac{1}{4} x_1 +\\frac{1}{4}x_4 + \\frac{1}{6}$\n",
        "*   $x_4 = \\frac{1}{4} x_2 +\\frac{1}{4}x_3 + \\frac{7}{18}$\n",
        "\n",
        "Con el vector inicial\n",
        "\n",
        "$x^0=[\\frac{7}{27},\\frac{7}{27},\\frac{7}{27},\\frac{7}{27}]$\n",
        "\n",
        "Este vector se obtiene de sacar el promedio de los valores de la frontera del <span style=\"color:magenta;\">**Problema de Dirichlet**</span>\n"
      ],
      "metadata": {
        "id": "iFC0xl3XD7EI"
      }
    },
    {
      "cell_type": "markdown",
      "source": [
        "<span style=\"color:cyan;\">*Algoritmo*</span>\n",
        "\n",
        "Método de Gauss-Seidel para resolver sistemas de ecuaciones lineales\n",
        "    \n",
        "    Parámetros:\n",
        "    A: matriz de coeficientes\n",
        "    b: vector de términos independientes\n",
        "    x0: aproximación inicial\n",
        "    tol: tolerancia para la convergencia\n",
        "    max_iter: número máximo de iteraciones\n",
        "    \n",
        "    Retorna:\n",
        "    x: solución aproximada\n",
        "    history: historial de iteraciones"
      ],
      "metadata": {
        "id": "lNNSjnu0Evxt"
      }
    },
    {
      "cell_type": "code",
      "execution_count": 11,
      "metadata": {
        "id": "tayZha6qD6dK"
      },
      "outputs": [],
      "source": [
        "import numpy as np"
      ]
    },
    {
      "cell_type": "markdown",
      "source": [
        "Definimos la función para el metódo de Gauss-Seidel"
      ],
      "metadata": {
        "id": "EJ6y9LfWFAoW"
      }
    },
    {
      "cell_type": "code",
      "source": [
        "def gauss_seidel_method(A, b, x0, tol=1e-6, max_iter=100):\n",
        "    n = len(b)\n",
        "    x = np.copy(x0)\n",
        "    x_old = np.copy(x0)\n",
        "    history = []\n",
        "\n",
        "    print(\"Método de Gauss-Seidel\")\n",
        "    print(\"Iteración |\", \" | \".join([f\"x{i+1}\" for i in range(n)]), \"| Error\")\n",
        "    print(\"-\" * 70)\n",
        "\n",
        "    for k in range(max_iter):\n",
        "        # Guardar valores anteriores para calcular el error\n",
        "        x_old = np.copy(x)\n",
        "\n",
        "        # Calcular nueva aproximación (usando valores actualizados)\n",
        "        for i in range(n):\n",
        "            suma = 0\n",
        "            # Suma de j=1 hasta i-1 (usando valores ya actualizados)\n",
        "            for j in range(i):\n",
        "                suma += A[i, j] * x[j]\n",
        "            # Suma de j=i+1 hasta n (usando valores anteriores)\n",
        "            for j in range(i+1, n):\n",
        "                suma += A[i, j] * x_old[j]\n",
        "\n",
        "            x[i] = (b[i] - suma) / A[i, i]\n",
        "\n",
        "        # Calcular error (norma infinito)\n",
        "        error = np.linalg.norm(x - x_old, np.inf)\n",
        "\n",
        "        # Guardar historial\n",
        "        history.append({\n",
        "            'iteration': k + 1,\n",
        "            'x': np.copy(x),\n",
        "            'error': error\n",
        "        })\n",
        "\n",
        "        # Imprimir resultados de la iteración actual\n",
        "        x_values = \" | \".join([f\"{val:.8f}\" for val in x])\n",
        "        print(f\"{k+1:9d} | {x_values} | {error:.8e}\")\n",
        "\n",
        "        # Verificar convergencia\n",
        "        if error < tol:\n",
        "            print(\"\\n¡Convergencia alcanzada!\")\n",
        "            return x, history\n",
        "\n",
        "        # Actualizar para la siguiente iteración\n",
        "        x_old = np.copy(x)\n",
        "\n",
        "    print(\"\\n¡Número máximo de iteraciones alcanzado!\")\n",
        "    return x, history"
      ],
      "metadata": {
        "id": "dgrDXhBtFLL2"
      },
      "execution_count": 12,
      "outputs": []
    },
    {
      "cell_type": "markdown",
      "source": [
        "Definimos el sistema de ecuaciones:\n",
        "\n",
        "x1 = 1/4 x2 + 1/4 x3\n",
        "\n",
        "x2 = 1/4 x1 + 1/4 x4 + 2/9\n",
        "\n",
        "x3 = 1/4 x1 + 1/4 x4 + 1/6\n",
        "\n",
        "x4 = 1/4 x2 + 1/4 x3 + 7/18\n",
        "\n",
        "Y lo Reescribimos en forma matricial: $A x = b$"
      ],
      "metadata": {
        "id": "4qFkmiJlFWXV"
      }
    },
    {
      "cell_type": "code",
      "source": [
        "A = np.array([\n",
        "    [1.0, -1/4, -1/4, 0.0],\n",
        "    [-1/4, 1.0, 0.0, -1/4],\n",
        "    [-1/4, 0.0, 1.0, -1/4],\n",
        "    [0.0, -1/4, -1/4, 1.0]\n",
        "])\n",
        "\n",
        "b = np.array([0.0, 2/9, 1/6, 7/18])"
      ],
      "metadata": {
        "id": "nC6I8EZ9FmFB"
      },
      "execution_count": 13,
      "outputs": []
    },
    {
      "cell_type": "markdown",
      "source": [
        "Tomamos el vector inicial\n",
        "\n",
        "x0 = ([7/27, 7/27, 7/27, 7/27])"
      ],
      "metadata": {
        "id": "ZUfXGeywFpES"
      }
    },
    {
      "cell_type": "code",
      "source": [
        "x0 = np.array([7/27, 7/27, 7/27, 7/27])"
      ],
      "metadata": {
        "id": "0qLQRiv7FwgX"
      },
      "execution_count": 14,
      "outputs": []
    },
    {
      "cell_type": "markdown",
      "source": [
        "Mostramos información del problema"
      ],
      "metadata": {
        "id": "v6h0j3LpF1H1"
      }
    },
    {
      "cell_type": "code",
      "source": [
        "print(\"Sistema de ecuaciones:\")\n",
        "print(\"x1 = 1/4 x2 + 1/4 x3\")\n",
        "print(\"x2 = 1/4 x1 + 1/4 x4 + 2/9\")\n",
        "print(\"x3 = 1/4 x1 + 1/4 x4 + 1/6\")\n",
        "print(\"x4 = 1/4 x2 + 1/4 x3 + 7/18\")\n",
        "print(f\"\\nVector inicial: x⁰ = [{x0[0]:.6f}, {x0[1]:.6f}, {x0[2]:.6f}, {x0[3]:.6f}]\")\n",
        "print(\"\\n\" + \"=\"*70)"
      ],
      "metadata": {
        "colab": {
          "base_uri": "https://localhost:8080/"
        },
        "id": "sJQbLXqwFyR1",
        "outputId": "6290dca3-670b-4045-b63a-7c6ee1e70035"
      },
      "execution_count": 15,
      "outputs": [
        {
          "output_type": "stream",
          "name": "stdout",
          "text": [
            "Sistema de ecuaciones:\n",
            "x1 = 1/4 x2 + 1/4 x3\n",
            "x2 = 1/4 x1 + 1/4 x4 + 2/9\n",
            "x3 = 1/4 x1 + 1/4 x4 + 1/6\n",
            "x4 = 1/4 x2 + 1/4 x3 + 7/18\n",
            "\n",
            "Vector inicial: x⁰ = [0.259259, 0.259259, 0.259259, 0.259259]\n",
            "\n",
            "======================================================================\n"
          ]
        }
      ]
    },
    {
      "cell_type": "markdown",
      "source": [
        "Resolver usando Gauss-Seidel"
      ],
      "metadata": {
        "id": "QluYKfksF5Ie"
      }
    },
    {
      "cell_type": "code",
      "source": [
        "solucion, historial = gauss_seidel_method(A, b, x0, tol=1e-6, max_iter=20)\n",
        "\n",
        "# Mostrar solución final\n",
        "print(\"\\nSolución final:\")\n",
        "for i, val in enumerate(solucion):\n",
        "    print(f\"x{i+1} = {val:.8f}\")\n",
        "\n",
        "# Verificar la solución\n",
        "print(\"\\nVerificación (A*x - b):\")\n",
        "residual = np.dot(A, solucion) - b\n",
        "for i, val in enumerate(residual):\n",
        "    print(f\"Ecuación {i+1}: {val:.2e}\")\n",
        "\n",
        "# Mostrar comparación con el vector inicial\n",
        "print(f\"\\nComparación con vector inicial:\")\n",
        "print(f\"x⁰ = [{x0[0]:.6f}, {x0[1]:.6f}, {x0[2]:.6f}, {x0[3]:.6f}]\")\n",
        "print(f\"x  = [{solucion[0]:.6f}, {solucion[1]:.6f}, {solucion[2]:.6f}, {solucion[3]:.6f}]\")"
      ],
      "metadata": {
        "colab": {
          "base_uri": "https://localhost:8080/"
        },
        "id": "SGx7f6jPF7iF",
        "outputId": "bd785271-2e7b-4f98-9e5c-39ca3ab1c6f5"
      },
      "execution_count": 16,
      "outputs": [
        {
          "output_type": "stream",
          "name": "stdout",
          "text": [
            "Método de Gauss-Seidel\n",
            "Iteración | x1 | x2 | x3 | x4 | Error\n",
            "----------------------------------------------------------------------\n",
            "        1 | 0.12962963 | 0.31944444 | 0.26388889 | 0.53472222 | 2.75462963e-01\n",
            "        2 | 0.14583333 | 0.39236111 | 0.33680556 | 0.57118056 | 7.29166667e-02\n",
            "        3 | 0.18229167 | 0.41059028 | 0.35503472 | 0.58029514 | 3.64583333e-02\n",
            "        4 | 0.19140625 | 0.41514757 | 0.35959201 | 0.58257378 | 9.11458333e-03\n",
            "        5 | 0.19368490 | 0.41628689 | 0.36073134 | 0.58314345 | 2.27864583e-03\n",
            "        6 | 0.19425456 | 0.41657172 | 0.36101617 | 0.58328586 | 5.69661458e-04\n",
            "        7 | 0.19439697 | 0.41664293 | 0.36108738 | 0.58332147 | 1.42415365e-04\n",
            "        8 | 0.19443258 | 0.41666073 | 0.36110518 | 0.58333037 | 3.56038411e-05\n",
            "        9 | 0.19444148 | 0.41666518 | 0.36110963 | 0.58333259 | 8.90096029e-06\n",
            "       10 | 0.19444370 | 0.41666630 | 0.36111074 | 0.58333315 | 2.22524007e-06\n",
            "       11 | 0.19444426 | 0.41666657 | 0.36111102 | 0.58333329 | 5.56310018e-07\n",
            "\n",
            "¡Convergencia alcanzada!\n",
            "\n",
            "Solución final:\n",
            "x1 = 0.19444426\n",
            "x2 = 0.41666657\n",
            "x3 = 0.36111102\n",
            "x4 = 0.58333329\n",
            "\n",
            "Verificación (A*x - b):\n",
            "Ecuación 1: -1.39e-07\n",
            "Ecuación 2: -3.48e-08\n",
            "Ecuación 3: -3.48e-08\n",
            "Ecuación 4: 0.00e+00\n",
            "\n",
            "Comparación con vector inicial:\n",
            "x⁰ = [0.259259, 0.259259, 0.259259, 0.259259]\n",
            "x  = [0.194444, 0.416667, 0.361111, 0.583333]\n"
          ]
        }
      ]
    },
    {
      "cell_type": "markdown",
      "source": [
        "Análisis de convergencia"
      ],
      "metadata": {
        "id": "cRBupA1wGAHG"
      }
    },
    {
      "cell_type": "code",
      "source": [
        "print(f\"\\nAnálisis de convergencia:\")\n",
        "print(f\"Iteraciones necesarias: {len(historial)}\")\n",
        "print(f\"Error final: {historial[-1]['error']:.2e}\")"
      ],
      "metadata": {
        "colab": {
          "base_uri": "https://localhost:8080/"
        },
        "id": "zGDow0geGCSG",
        "outputId": "e5d94ce2-a6e3-4af2-ab13-226293f32a84"
      },
      "execution_count": 17,
      "outputs": [
        {
          "output_type": "stream",
          "name": "stdout",
          "text": [
            "\n",
            "Análisis de convergencia:\n",
            "Iteraciones necesarias: 11\n",
            "Error final: 5.56e-07\n"
          ]
        }
      ]
    }
  ]
}