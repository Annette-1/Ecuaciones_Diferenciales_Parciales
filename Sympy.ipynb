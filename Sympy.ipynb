{
  "nbformat": 4,
  "nbformat_minor": 0,
  "metadata": {
    "colab": {
      "provenance": [],
      "authorship_tag": "ABX9TyPGmvcAyzuLnVmJ7JmHkEoT",
      "include_colab_link": true
    },
    "kernelspec": {
      "name": "python3",
      "display_name": "Python 3"
    },
    "language_info": {
      "name": "python"
    }
  },
  "cells": [
    {
      "cell_type": "markdown",
      "metadata": {
        "id": "view-in-github",
        "colab_type": "text"
      },
      "source": [
        "<a href=\"https://colab.research.google.com/github/Annette-1/Ecuaciones_Diferenciales_Parciales/blob/main/Sympy.ipynb\" target=\"_parent\"><img src=\"https://colab.research.google.com/assets/colab-badge.svg\" alt=\"Open In Colab\"/></a>"
      ]
    },
    {
      "cell_type": "markdown",
      "source": [
        "# <span style=\"color:orange;\"> Capitulo 1.-Resolver ecuaciones diferenciales ordinarias con  SymPy (Python)</span>"
      ],
      "metadata": {
        "id": "1iCiD6YvYHGp"
      }
    },
    {
      "cell_type": "markdown",
      "source": [
        "##Comandos basicos para resolver ecuaciones diferenciales en Simpy"
      ],
      "metadata": {
        "id": "pbfLIXDDZfKg"
      }
    },
    {
      "cell_type": "markdown",
      "source": [
        "Python\n",
        "Para  resolver  con  SymPy  usamos  dsolve  con  la  sintaxis:\n",
        "<span style=\"color:blue;\">sympy.solvers.ode.dsolve(eq,func=None,hint'default’,simplify=True,ics=None,xi=None, eta=None,x0=0,n=6,**kwargs).</span>"
      ],
      "metadata": {
        "id": "zZHUQE0UacCn"
      }
    },
    {
      "cell_type": "markdown",
      "source": [
        "importamos la librerías SymPy a Python"
      ],
      "metadata": {
        "id": "qAn88KD4bLCG"
      }
    },
    {
      "cell_type": "code",
      "source": [
        "import sympy as sp\n",
        "import numpy as exp"
      ],
      "metadata": {
        "id": "AX1O5FscbPaC"
      },
      "execution_count": null,
      "outputs": []
    },
    {
      "cell_type": "markdown",
      "source": [
        "Definimos las variables independiente y dependiente ası como los parametros de forma simbolica"
      ],
      "metadata": {
        "id": "Qm4gv-P4bque"
      }
    },
    {
      "cell_type": "code",
      "source": [
        "t=sp.symbols('t')\n",
        "p=sp.Function('p')\n",
        "a=sp.symbols('a')\n",
        "b=sp.symbols('b')\n",
        "p0=sp.symbols('p0')"
      ],
      "metadata": {
        "id": "O7XzbxWbbv61"
      },
      "execution_count": null,
      "outputs": []
    },
    {
      "cell_type": "markdown",
      "source": [
        "Ahora definimos la ecuación diferencial con la condición inicial usando dsolve:"
      ],
      "metadata": {
        "id": "RS__W8Ecb7jz"
      }
    },
    {
      "cell_type": "code",
      "source": [
        "ode=sp.Eq(sp.Derivative(p(t),t)-a*p(t)+b*p(t)*p(t),0)\n",
        "sol = sp.dsolve(ode,p(t),ics={p(0):p0})"
      ],
      "metadata": {
        "id": "CoRqN0Zyb-EL"
      },
      "execution_count": null,
      "outputs": []
    },
    {
      "cell_type": "markdown",
      "source": [
        "Obteniendo así la solución:\n",
        "<span style=\"color:blue;\">Nota: poner sp.Eq(\"...\") para q defina la función</span>"
      ],
      "metadata": {
        "id": "0Gh8kIReci44"
      }
    },
    {
      "cell_type": "code",
      "source": [
        "sp.Eq(p(t), a*sp.exp(a*(t+sp.log(b*p0/(-a+b*p0))/a))/(b*(sp.exp(a*(t+sp.log(b*p0/(-a + b*p0))/a)) - 1)))"
      ],
      "metadata": {
        "colab": {
          "base_uri": "https://localhost:8080/",
          "height": 143
        },
        "id": "hAaXXSQvcncF",
        "outputId": "a92678eb-5907-4966-8bf9-6e0041177895"
      },
      "execution_count": null,
      "outputs": [
        {
          "output_type": "execute_result",
          "data": {
            "text/plain": [
              "Eq(p(t), a*exp(a*(t + log(b*p0/(-a + b*p0))/a))/(b*(exp(a*(t + log(b*p0/(-a + b*p0))/a)) - 1)))"
            ],
            "text/latex": "$\\displaystyle p{\\left(t \\right)} = \\frac{a e^{a \\left(t + \\frac{\\log{\\left(\\frac{b p_{0}}{- a + b p_{0}} \\right)}}{a}\\right)}}{b \\left(e^{a \\left(t + \\frac{\\log{\\left(\\frac{b p_{0}}{- a + b p_{0}} \\right)}}{a}\\right)} - 1\\right)}$"
          },
          "metadata": {},
          "execution_count": 81
        }
      ]
    },
    {
      "cell_type": "markdown",
      "source": [
        "Definimos a continuación los valores de a,b y p0, y evaluamos las respectivas soluciones (una para cada condición inicial):"
      ],
      "metadata": {
        "id": "j6T32Dlmc34x"
      }
    },
    {
      "cell_type": "code",
      "source": [
        "constants={a:0.03,b:0.0001,p0:5}\n",
        "sol1=sol.subs(constants)\n",
        "constants={a:0.03,b:0.0001,p0:6}\n",
        "sol2=sol.subs(constants)\n",
        "constants={a:0.03,b:0.0001,p0:7}\n",
        "sol3=sol.subs(constants)"
      ],
      "metadata": {
        "id": "_YiPStvBdE4P"
      },
      "execution_count": null,
      "outputs": []
    },
    {
      "cell_type": "markdown",
      "source": [
        "La función lambdify permite definir una función a partir de la expresión simbolica:"
      ],
      "metadata": {
        "id": "NA1F2p3IdpGx"
      }
    },
    {
      "cell_type": "code",
      "source": [
        "func1 = sp.lambdify(t,sol1.rhs,'numpy')\n",
        "func2 = sp.lambdify(t,sol2.rhs,'numpy')\n",
        "func3 = sp.lambdify(t,sol3.rhs,'numpy')"
      ],
      "metadata": {
        "id": "hFujPc2xd3GR"
      },
      "execution_count": null,
      "outputs": []
    },
    {
      "cell_type": "markdown",
      "source": [
        "A continuación, importamos los módulos scipy, matplotlib y pyplot para graficar nuestras soluciones:"
      ],
      "metadata": {
        "id": "SPyeTCLMeL-9"
      }
    },
    {
      "cell_type": "code",
      "source": [
        "import numpy as np # Import numpy\n",
        "import scipy\n",
        "tt = np.arange(0,200,1) # Use np.arange\n",
        "pp1 = func1(tt)\n",
        "pp2 = func2(tt)\n",
        "pp3 = func3(tt)\n",
        "import matplotlib as mpl\n",
        "import matplotlib.pyplot as plt\n",
        "plt.plot(tt,pp1,'r',tt,pp2,'b',tt,pp3,'g')\n",
        "plt.xlabel('tiempo t')\n",
        "plt.ylabel('Poblacion p(t)')\n",
        "plt.show()"
      ],
      "metadata": {
        "colab": {
          "base_uri": "https://localhost:8080/",
          "height": 449
        },
        "id": "5uGkB9qEepkK",
        "outputId": "d8352014-43f1-4068-cacb-1b65a0b6b3da"
      },
      "execution_count": null,
      "outputs": [
        {
          "output_type": "display_data",
          "data": {
            "text/plain": [
              "<Figure size 640x480 with 1 Axes>"
            ],
            "image/png": "[encoded data removed]"
          },
          "metadata": {}
        }
      ]
    },
    {
      "cell_type": "markdown",
      "source": [
        "Como observamos, la función anterior nos recomienda algunos de los métodos que podríamos usar como ayudas (hints) para resolver esta ecuación."
      ],
      "metadata": {
        "id": "bUrnPZMQjeF8"
      }
    },
    {
      "cell_type": "code",
      "source": [
        "sol=dsolve(ode,p(t))\n",
        "sol"
      ],
      "metadata": {
        "colab": {
          "base_uri": "https://localhost:8080/",
          "height": 62
        },
        "id": "bOW3rISaj6Lc",
        "outputId": "183679f2-a970-44ad-d935-637594b98523"
      },
      "execution_count": null,
      "outputs": [
        {
          "output_type": "execute_result",
          "data": {
            "text/plain": [
              "Eq(p(t), a*exp(a*(C1 + t))/(b*(exp(a*(C1 + t)) - 1)))"
            ],
            "text/latex": "$\\displaystyle p{\\left(t \\right)} = \\frac{a e^{a \\left(C_{1} + t\\right)}}{b \\left(e^{a \\left(C_{1} + t\\right)} - 1\\right)}$"
          },
          "metadata": {},
          "execution_count": 50
        }
      ]
    },
    {
      "cell_type": "markdown",
      "source": [
        "##  <span style=\"color:purple;\"> **Capitulo 2.** Ecuación de Lagrange: $y= 2xy′+ log(y′)$: </span>"
      ],
      "metadata": {
        "id": "X-yvOE0MinYg"
      }
    },
    {
      "cell_type": "code",
      "source": [
        "from sympy import *\n",
        "import sympy as sp\n",
        "x=sp.symbols('x')\n",
        "y=sp.Function('y')\n",
        "ode2=sp.Eq(log(sp.Derivative(y(x),x))+2*x*sp.Derivative(y(x),x)-y(x),0)\n",
        "sol2 = sp.dsolve(ode2,y(x))"
      ],
      "metadata": {
        "id": "eQPwF25Aipk9"
      },
      "execution_count": null,
      "outputs": []
    },
    {
      "cell_type": "markdown",
      "source": [
        "Para obtener:"
      ],
      "metadata": {
        "id": "gBHPMu6ajARB"
      }
    },
    {
      "cell_type": "code",
      "source": [
        "Eq(C1-y(x)-log(LambertW(2*x*exp(y(x))) + 2) + LambertW(2*x*exp(y(x))),0)"
      ],
      "metadata": {
        "colab": {
          "base_uri": "https://localhost:8080/",
          "height": 47
        },
        "id": "A7vZ9y96jRME",
        "outputId": "9449538f-1ede-4e9b-dc65-328db15aaf73"
      },
      "execution_count": null,
      "outputs": [
        {
          "output_type": "execute_result",
          "data": {
            "text/plain": [
              "Eq(C1 - y(x) - log(LambertW(2*x*exp(y(x))) + 2) + LambertW(2*x*exp(y(x))), 0)"
            ],
            "text/latex": "$\\displaystyle C_{1} - y{\\left(x \\right)} - \\log{\\left(W\\left(2 x e^{y{\\left(x \\right)}}\\right) + 2 \\right)} + W\\left(2 x e^{y{\\left(x \\right)}}\\right) = 0$"
          },
          "metadata": {},
          "execution_count": 88
        }
      ]
    },
    {
      "cell_type": "markdown",
      "source": [
        "##  <span style=\"color:purple;\"> **Capitulo 5.** Una ecuación homogénea de Cauchy-Euler de cuarto orden: </span>"
      ],
      "metadata": {
        "id": "8EW1_GdWdqlC"
      }
    },
    {
      "cell_type": "markdown",
      "source": [
        " esta dada de la forma $x^4y^4(x) + 6x^3y^3(x) + 9x^2y′′(x) + 3xy′(x) +y(x) = 0$"
      ],
      "metadata": {
        "id": "BSFP_cAcaDT9"
      }
    },
    {
      "cell_type": "markdown",
      "source": [
        "importamos la libreria"
      ],
      "metadata": {
        "id": "P8B2tiZpavxI"
      }
    },
    {
      "cell_type": "code",
      "source": [
        "from sympy import *\n",
        "import sympy as sp"
      ],
      "metadata": {
        "id": "IhfgX-9xayuW"
      },
      "execution_count": null,
      "outputs": []
    },
    {
      "cell_type": "markdown",
      "source": [
        "definimos las variables de la EDO"
      ],
      "metadata": {
        "id": "VNHuvtiRa7UB"
      }
    },
    {
      "cell_type": "code",
      "source": [
        "x=sp.symbols('x')\n",
        "y=sp.Function('y')\n",
        "C1, C2, C3, C4 = symbols(\"C1, C2, C3, C4\")\n",
        "ode5=sp.Eq(x**4*sp.Derivative(y(x),x,4)+6*x*x*x*sp.Derivative(y(x),x,3)+9*x**2*sp.Derivative(y(x),x,2)+3*x*sp.Derivative(y(x),x)+y(x),0)\n",
        "sol5 = sp.dsolve(ode5,y(x))"
      ],
      "metadata": {
        "id": "iF4T1JgLag6m"
      },
      "execution_count": null,
      "outputs": []
    },
    {
      "cell_type": "markdown",
      "source": [
        "para asi obtener"
      ],
      "metadata": {
        "id": "T58BlbWcbIXt"
      }
    },
    {
      "cell_type": "code",
      "source": [
        "Eq(y(x),C3*sin(log(x))+C4*cos(log(x))+ (C1*sin(log(x))+C2*cos(log(x)))*log(x))"
      ],
      "metadata": {
        "colab": {
          "base_uri": "https://localhost:8080/",
          "height": 38
        },
        "id": "QeseW7OEbKPY",
        "outputId": "9f1c5f5d-e708-43a9-f26f-773e1bd6de7f"
      },
      "execution_count": null,
      "outputs": [
        {
          "output_type": "execute_result",
          "data": {
            "text/plain": [
              "Eq(y(x), C3*sin(log(x)) + C4*cos(log(x)) + (C1*sin(log(x)) + C2*cos(log(x)))*log(x))"
            ],
            "text/latex": "$\\displaystyle y{\\left(x \\right)} = C_{3} \\sin{\\left(\\log{\\left(x \\right)} \\right)} + C_{4} \\cos{\\left(\\log{\\left(x \\right)} \\right)} + \\left(C_{1} \\sin{\\left(\\log{\\left(x \\right)} \\right)} + C_{2} \\cos{\\left(\\log{\\left(x \\right)} \\right)}\\right) \\log{\\left(x \\right)}$"
          },
          "metadata": {},
          "execution_count": 57
        }
      ]
    },
    {
      "cell_type": "markdown",
      "source": [
        "La literatura nos dice que un metodo de solucion de las ecuaciones de Cauchy Euler implica la substitucion $y=x^n$."
      ],
      "metadata": {
        "id": "DpquiN4Wb1Mw"
      }
    },
    {
      "cell_type": "code",
      "source": [
        "n=sp.symbols('n')\n",
        "eq=simplify(ode5.subs(y(x),x**n))\n",
        "factor(eq)"
      ],
      "metadata": {
        "colab": {
          "base_uri": "https://localhost:8080/",
          "height": 41
        },
        "id": "zXbSqySwb-H_",
        "outputId": "4c0aa74c-ff0e-4def-f26b-e489d5d4b630"
      },
      "execution_count": null,
      "outputs": [
        {
          "output_type": "execute_result",
          "data": {
            "text/plain": [
              "Eq(x**n*(n**2 + 1)**2, 0)"
            ],
            "text/latex": "$\\displaystyle x^{n} \\left(n^{2} + 1\\right)^{2} = 0$"
          },
          "metadata": {},
          "execution_count": 92
        }
      ]
    },
    {
      "cell_type": "markdown",
      "source": [
        "##  <span style=\"color:purple;\"> **Capitulo 6.** Una ecuacion con problema de valor inicial con deltas de Dirac como fuentes: </span>"
      ],
      "metadata": {
        "id": "rXjMb1SadQSC"
      }
    },
    {
      "cell_type": "markdown",
      "source": [
        "Dada la ecuacion $y′′(t)−4y′(t) + 4y(t) = 3δ(t−1) +δ(t−2),  \\quad  y(0) = 1,  y′(0) = 1.$"
      ],
      "metadata": {
        "id": "awWD7IqHeDbb"
      }
    },
    {
      "cell_type": "code",
      "source": [
        "from sympy import *\n",
        "import sympy as sp"
      ],
      "metadata": {
        "id": "D0XRCtWndPfu"
      },
      "execution_count": null,
      "outputs": []
    },
    {
      "cell_type": "markdown",
      "source": [
        "Definimos las funciones y las variables"
      ],
      "metadata": {
        "id": "cdXtZBD8eiyu"
      }
    },
    {
      "cell_type": "code",
      "source": [
        "t=sp.symbols('t')\n",
        "y=sp.Function('y')\n",
        "ode6=sp.Eq(sp.Derivative(y(t),t,2)-4*sp.Derivative(y(t),t)+4*y(t),3*DiracDelta(t-1)+DiracDelta(t-2))\n",
        "sol6 = sp.dsolve(ode6)\n",
        "constants=solve([sol6.rhs.subs(t,0)-1,sol6.rhs.diff(t,1).subs(t,0)-1])\n",
        "sol6.subs(constants)"
      ],
      "metadata": {
        "colab": {
          "base_uri": "https://localhost:8080/",
          "height": 58
        },
        "id": "QIXIZeJBeY07",
        "outputId": "151fb04a-556d-4896-c761-8226a35542ad"
      },
      "execution_count": null,
      "outputs": [
        {
          "output_type": "execute_result",
          "data": {
            "text/plain": [
              "Eq(y(t), (t*(exp(-4)*Heaviside(t - 2) + 3*exp(-2)*Heaviside(t - 1) - 1) - 2*exp(-4)*Heaviside(t - 2) - 3*exp(-2)*Heaviside(t - 1) + 1)*exp(2*t))"
            ],
            "text/latex": "$\\displaystyle y{\\left(t \\right)} = \\left(t \\left(\\frac{\\theta\\left(t - 2\\right)}{e^{4}} + \\frac{3 \\theta\\left(t - 1\\right)}{e^{2}} - 1\\right) - \\frac{2 \\theta\\left(t - 2\\right)}{e^{4}} - \\frac{3 \\theta\\left(t - 1\\right)}{e^{2}} + 1\\right) e^{2 t}$"
          },
          "metadata": {},
          "execution_count": 94
        }
      ]
    },
    {
      "cell_type": "markdown",
      "source": [
        "Para obtener"
      ],
      "metadata": {
        "id": "u25m8VlaevWk"
      }
    },
    {
      "cell_type": "code",
      "source": [
        "Eq(y(t), (t*(exp(-4)*Heaviside(t-2)+3*exp(-2)*Heaviside(t-1)-1)-2*exp(-4)*Heaviside(t-2) - 3*exp(-2)*Heaviside(t-1)+1)*exp(2*t))"
      ],
      "metadata": {
        "colab": {
          "base_uri": "https://localhost:8080/",
          "height": 58
        },
        "id": "TmNvfkGDexdN",
        "outputId": "ea14070c-781d-42fa-a8ca-604d44499daf"
      },
      "execution_count": null,
      "outputs": [
        {
          "output_type": "execute_result",
          "data": {
            "text/plain": [
              "Eq(y(t), (t*(exp(-4)*Heaviside(t - 2) + 3*exp(-2)*Heaviside(t - 1) - 1) - 2*exp(-4)*Heaviside(t - 2) - 3*exp(-2)*Heaviside(t - 1) + 1)*exp(2*t))"
            ],
            "text/latex": "$\\displaystyle y{\\left(t \\right)} = \\left(t \\left(\\frac{\\theta\\left(t - 2\\right)}{e^{4}} + \\frac{3 \\theta\\left(t - 1\\right)}{e^{2}} - 1\\right) - \\frac{2 \\theta\\left(t - 2\\right)}{e^{4}} - \\frac{3 \\theta\\left(t - 1\\right)}{e^{2}} + 1\\right) e^{2 t}$"
          },
          "metadata": {},
          "execution_count": 95
        }
      ]
    },
    {
      "cell_type": "markdown",
      "source": [
        "*Nota: este tipo de ecuacion diferencial requiere para su solucion, la tecnica de transformada de Laplace (incluida en el  comando  dsolve). Modificar  las fuentes $Δ(t−t_0)$ para diferentes valores de $t_0$ y observar el efecto que causa en las soluciones*"
      ],
      "metadata": {
        "id": "W1XUwYw5bRoy"
      }
    },
    {
      "cell_type": "markdown",
      "source": [
        "##  <span style=\"color:purple;\"> **Capitulo 7.** Una ecuacion-Sistema masa-resorte:$mx′′(t) +ke−αtx(t) = 0$.: </span>"
      ],
      "metadata": {
        "id": "QR8ME8YWhExf"
      }
    },
    {
      "cell_type": "code",
      "source": [
        "from sympy import *\n",
        "import sympy as sp\n"
      ],
      "metadata": {
        "id": "i8NOmF0ZheFz"
      },
      "execution_count": null,
      "outputs": []
    },
    {
      "cell_type": "code",
      "source": [
        "t=sp.symbols('t')\n",
        "y=sp.Function('y')\n",
        "m=sp.symbols('m')\n",
        "k=sp.symbols('k')\n",
        "a=sp.symbols('a')\n",
        "ode7=sp.Eq(m*sp.Derivative(y(t),t,t)+k*exp(-a*t)*y(t),0)\n",
        "sol7 = sp.dsolve(ode7,y(t))"
      ],
      "metadata": {
        "id": "W0935bPviGLf"
      },
      "execution_count": null,
      "outputs": []
    },
    {
      "cell_type": "markdown",
      "source": [
        "Para obtener"
      ],
      "metadata": {
        "id": "f0V1ORAbh-Dj"
      }
    },
    {
      "cell_type": "code",
      "source": [
        "Eq(y(t),C2*(k**2*t**4*exp(-2*a*t)/(24*m**2)-k*t**2*exp(-a*t)/(2*m)+1) +C1*t*(-k*t**2*exp(-a*t)/(6*m) + 1) + O(t**6))"
      ],
      "metadata": {
        "colab": {
          "base_uri": "https://localhost:8080/",
          "height": 58
        },
        "id": "CKOTuJB8h_g6",
        "outputId": "78480bbd-1ce8-47b0-e7e5-671b1343e35d"
      },
      "execution_count": null,
      "outputs": [
        {
          "output_type": "execute_result",
          "data": {
            "text/plain": [
              "Eq(y(t), C2*(k**2*t**4*exp(-2*a*t)/(24*m**2) - k*t**2*exp(-a*t)/(2*m) + 1) + C1*t*(-k*t**2*exp(-a*t)/(6*m) + 1) + O(t**6))"
            ],
            "text/latex": "$\\displaystyle y{\\left(t \\right)} = C_{2} \\left(\\frac{k^{2} t^{4} e^{- 2 a t}}{24 m^{2}} - \\frac{k t^{2} e^{- a t}}{2 m} + 1\\right) + C_{1} t \\left(- \\frac{k t^{2} e^{- a t}}{6 m} + 1\\right) + O\\left(t^{6}\\right)$"
          },
          "metadata": {},
          "execution_count": 98
        }
      ]
    },
    {
      "cell_type": "markdown",
      "source": [
        "##  <span style=\"color:purple;\"> **Capitulo 12.** Problema de valor inicial para una ecuación no lineal (solución numérica): </span>\n",
        " Dada la ecuación $y′(t) = sen(y^2(t)), \\quad y(0) = 1.$\n"
      ],
      "metadata": {
        "id": "VnAGejNRo8oH"
      }
    },
    {
      "cell_type": "markdown",
      "source": [
        "importamos la librerías"
      ],
      "metadata": {
        "id": "61G5ZblKpfnO"
      }
    },
    {
      "cell_type": "code",
      "source": [
        "import numpy as np\n",
        "from scipy.integrate import odeint\n",
        "import matplotlib.pyplot as plt\n",
        "sin = np.sin"
      ],
      "metadata": {
        "id": "mbOegAHEpiLl"
      },
      "execution_count": 99,
      "outputs": []
    },
    {
      "cell_type": "markdown",
      "source": [
        "Definimos ahora la funci ́on que define el lado derecho de la ecuación diferencial $\\frac{dy}{dt}=f(y, t)$"
      ],
      "metadata": {
        "id": "baUGgFt_pnEj"
      }
    },
    {
      "cell_type": "code",
      "source": [
        "def model(y,t):\n",
        "  dydt=sin(y*y)\n",
        "  return dydt\n",
        "\n",
        "y0 = 1\n",
        "t=np.linspace(0,20)"
      ],
      "metadata": {
        "id": "lMw2iFMhqCvA"
      },
      "execution_count": 103,
      "outputs": []
    },
    {
      "cell_type": "markdown",
      "source": [
        "Resolvemos numéricamente con odeint:\n",
        "y graficamos"
      ],
      "metadata": {
        "id": "CUpv4BJqqPFM"
      }
    },
    {
      "cell_type": "code",
      "source": [
        "y=odeint(model,y0,t)\n",
        "plt.plot(t,y)\n",
        "plt.xlabel('time')\n",
        "plt.ylabel('y(t)')\n",
        "plt.show()"
      ],
      "metadata": {
        "id": "FuxWkReiqfvK",
        "outputId": "81b580bd-c9fb-4ddd-8598-4a290097ab28",
        "colab": {
          "base_uri": "https://localhost:8080/",
          "height": 450
        }
      },
      "execution_count": 104,
      "outputs": [
        {
          "output_type": "display_data",
          "data": {
            "text/plain": [
              "<Figure size 640x480 with 1 Axes>"
            ],
            "image/png": "[encoded data removed]"
          },
          "metadata": {}
        }
      ]
    }
  ]
}