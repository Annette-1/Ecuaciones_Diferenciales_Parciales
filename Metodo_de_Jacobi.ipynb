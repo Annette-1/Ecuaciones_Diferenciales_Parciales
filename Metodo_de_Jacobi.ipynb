{
  "nbformat": 4,
  "nbformat_minor": 0,
  "metadata": {
    "colab": {
      "provenance": [],
      "authorship_tag": "ABX9TyMhSdF/GVYEY629m30DgIpI",
      "include_colab_link": true
    },
    "kernelspec": {
      "name": "python3",
      "display_name": "Python 3"
    },
    "language_info": {
      "name": "python"
    }
  },
  "cells": [
    {
      "cell_type": "markdown",
      "metadata": {
        "id": "view-in-github",
        "colab_type": "text"
      },
      "source": [
        "<a href=\"https://colab.research.google.com/github/Annette-1/Ecuaciones_Diferenciales_Parciales/blob/main/Metodo_de_Jacobi.ipynb\" target=\"_parent\"><img src=\"https://colab.research.google.com/assets/colab-badge.svg\" alt=\"Open In Colab\"/></a>"
      ]
    },
    {
      "cell_type": "markdown",
      "source": [
        "#<span style=\"color:blue;\">**Metódo de Jacobi**</span>\n",
        "\n",
        "Aplicamos el metódo de Jacobi para el siguiente sistema de ecuaciones obtenidas de resolver el <span style=\"color:magenta;\">**Problema de Dirichlet**</span>\n",
        " :\n",
        "\n",
        "*   $x_1 = \\frac{1}{4} x_2 +\\frac{1}{4}x_3$\n",
        "*   $x_2 = \\frac{1}{4} x_1 +\\frac{1}{4}x_4 + \\frac{2}{9}$\n",
        "*   $x_3 = \\frac{1}{4} x_1 +\\frac{1}{4}x_4 + \\frac{1}{6}$\n",
        "*   $x_4 = \\frac{1}{4} x_2 +\\frac{1}{4}x_3 + \\frac{7}{18}$\n",
        "\n",
        "Con el vector inicial\n",
        "\n",
        "$x^0=[\\frac{7}{27},\\frac{7}{27},\\frac{7}{27},\\frac{7}{27}]$\n",
        "\n",
        "Este vector se obtiene de sacar el promedio de los valores de la frontera del <span style=\"color:magenta;\">**Problema de Dirichlet**</span>\n"
      ],
      "metadata": {
        "id": "fQJSExYAx1ma"
      }
    },
    {
      "cell_type": "markdown",
      "source": [
        "<span style=\"color:cyan;\">*Algoritmo*</span>\n",
        "\n",
        "Método de Jacobi para resolver sistemas de ecuaciones lineales\n",
        "    \n",
        "    Parámetros:\n",
        "    A: matriz de coeficientes\n",
        "    b: vector de términos independientes\n",
        "    x0: aproximación inicial\n",
        "    tol: tolerancia para la convergencia\n",
        "    max_iter: número máximo de iteraciones\n",
        "    \n",
        "    Retorna:\n",
        "    x: solución aproximada\n",
        "    history: historial de iteraciones"
      ],
      "metadata": {
        "id": "Nou9P-a21rG-"
      }
    },
    {
      "cell_type": "code",
      "source": [
        "import numpy as np"
      ],
      "metadata": {
        "id": "5mZqm2v5zl3V"
      },
      "execution_count": 13,
      "outputs": []
    },
    {
      "cell_type": "markdown",
      "source": [
        "Definimos la funcion para el metódo de Jacobi"
      ],
      "metadata": {
        "id": "_J5Nx7al2LOh"
      }
    },
    {
      "cell_type": "code",
      "source": [
        "def jacobi_method(A, b, x0, tol=1e-6, max_iter=50):\n",
        "    n = len(b)\n",
        "    x = np.copy(x0)\n",
        "    x_new = np.zeros(n)\n",
        "    history = []\n",
        "\n",
        "    print(\"Método de Jacobi\")\n",
        "    print(\"Iteración |\", \" | \".join([f\"x{i+1}\" for i in range(n)]), \"| Error\")\n",
        "    print(\"-\" * 60)\n",
        "    for k in range(max_iter):\n",
        "        # Calcular nueva aproximación\n",
        "        for i in range(n):\n",
        "            suma = 0\n",
        "            for j in range(n):\n",
        "                if j != i:\n",
        "                    suma += A[i, j] * x[j]\n",
        "            x_new[i] = (b[i] - suma) / A[i, i]\n",
        "\n",
        "        # Calcular error\n",
        "        error = np.linalg.norm(x_new - x, np.inf)\n",
        "\n",
        "        # Guardar historial\n",
        "        history.append({\n",
        "            'iteration': k + 1,\n",
        "            'x': np.copy(x_new),\n",
        "            'error': error\n",
        "        })\n",
        "        x_values = \" | \".join([f\"{val:.8f}\" for val in x_new])\n",
        "        print(f\"{k+1:9d} | {x_values} | {error:.8e}\")\n",
        "        # Verificar convergencia\n",
        "        if error < tol:\n",
        "            print(\"\\n¡Convergencia alcanzada!\")\n",
        "            return x_new, history\n",
        "\n",
        "        # Actualizar para la siguiente iteración\n",
        "        x = np.copy(x_new)\n",
        "\n",
        "    print(\"\\n¡Número máximo de iteraciones alcanzado!\")\n",
        "    return x, history"
      ],
      "metadata": {
        "id": "fKMA-dGJ2Fhi"
      },
      "execution_count": 14,
      "outputs": []
    },
    {
      "cell_type": "markdown",
      "source": [
        "Imprimimos resultados de la iteración actual"
      ],
      "metadata": {
        "id": "VAraXaop2gD2"
      }
    },
    {
      "cell_type": "markdown",
      "source": [
        " Definir el sistema de ecuaciones\n",
        "x1 = 1/4 x2 + 1/4 x3\n",
        "x2 = 1/4 x1 + 1/4 x4 + 2/9x3\n",
        "x3= 1/4 x1 + 1/4 x4 + 1/6\n",
        "x4 = 1/4 x2 + 1/4 x3 + 7/18\n"
      ],
      "metadata": {
        "id": "_B_0dhiF2ygm"
      }
    },
    {
      "cell_type": "markdown",
      "source": [
        "Reescribir en forma matricial: $A x = b$"
      ],
      "metadata": {
        "id": "tF2XYuWj26GC"
      }
    },
    {
      "cell_type": "code",
      "source": [
        "A = np.array([\n",
        "    [1.0, -1/4, -1/4, 0.0],\n",
        "    [-1/4, 1.0, 0.0, -1/4],\n",
        "    [-1/4, 0.0, 1.0, -1/4],\n",
        "    [0.0, -1/4, -1/4, 1.0]\n",
        "])"
      ],
      "metadata": {
        "id": "bKxMdUyQ3BaN"
      },
      "execution_count": 15,
      "outputs": []
    },
    {
      "cell_type": "code",
      "source": [
        "b = np.array([0.0, 2/9, 1/6, 7/18])"
      ],
      "metadata": {
        "id": "JTHk2r5T3Dut"
      },
      "execution_count": 16,
      "outputs": []
    },
    {
      "cell_type": "markdown",
      "source": [
        "Aproximación inicial\n",
        "$x^0 = [7/27, 7/27, 7/27, 7/27]$"
      ],
      "metadata": {
        "id": "8U6NnGyI3Pjq"
      }
    },
    {
      "cell_type": "code",
      "source": [
        "x0 = np.array([7/27, 7/27, 7/27, 7/27])\n",
        "# Resolver usando Jacobi\n",
        "print(\"Sistema de ecuaciones:\")\n",
        "print(\"x1 = 1/4 x2 + 1/4 x3\")\n",
        "print(\"x2 = 1/4 x1 + 1/4 x4 + 2/9\")\n",
        "print(\"x3 = 1/4 x1 + 1/4 x4 + 1/6\")\n",
        "print(\"x4 = 1/4 x2 + 1/4 x3 + 7/18\")\n",
        "print(\"\\n\" + \"=\"*60)\n",
        "\n",
        "solucion, historial = jacobi_method(A, b, x0, tol=1e-6, max_iter=20)\n"
      ],
      "metadata": {
        "colab": {
          "base_uri": "https://localhost:8080/"
        },
        "id": "3IyrhaMJ3Ik0",
        "outputId": "1400bf29-3360-4f5f-8ec4-0d986a93dcbc"
      },
      "execution_count": 17,
      "outputs": [
        {
          "output_type": "stream",
          "name": "stdout",
          "text": [
            "Sistema de ecuaciones:\n",
            "x1 = 1/4 x2 + 1/4 x3\n",
            "x2 = 1/4 x1 + 1/4 x4 + 2/9\n",
            "x3 = 1/4 x1 + 1/4 x4 + 1/6\n",
            "x4 = 1/4 x2 + 1/4 x3 + 7/18\n",
            "\n",
            "============================================================\n",
            "Método de Jacobi\n",
            "Iteración | x1 | x2 | x3 | x4 | Error\n",
            "------------------------------------------------------------\n",
            "        1 | 0.12962963 | 0.35185185 | 0.29629630 | 0.51851852 | 2.59259259e-01\n",
            "        2 | 0.16203704 | 0.38425926 | 0.32870370 | 0.55092593 | 3.24074074e-02\n",
            "        3 | 0.17824074 | 0.40046296 | 0.34490741 | 0.56712963 | 1.62037037e-02\n",
            "        4 | 0.18634259 | 0.40856481 | 0.35300926 | 0.57523148 | 8.10185185e-03\n",
            "        5 | 0.19039352 | 0.41261574 | 0.35706019 | 0.57928241 | 4.05092593e-03\n",
            "        6 | 0.19241898 | 0.41464120 | 0.35908565 | 0.58130787 | 2.02546296e-03\n",
            "        7 | 0.19343171 | 0.41565394 | 0.36009838 | 0.58232060 | 1.01273148e-03\n",
            "        8 | 0.19393808 | 0.41616030 | 0.36060475 | 0.58282697 | 5.06365741e-04\n",
            "        9 | 0.19419126 | 0.41641348 | 0.36085793 | 0.58308015 | 2.53182870e-04\n",
            "       10 | 0.19431785 | 0.41654008 | 0.36098452 | 0.58320674 | 1.26591435e-04\n",
            "       11 | 0.19438115 | 0.41660337 | 0.36104782 | 0.58327004 | 6.32957176e-05\n",
            "       12 | 0.19441280 | 0.41663502 | 0.36107946 | 0.58330169 | 3.16478588e-05\n",
            "       13 | 0.19442862 | 0.41665084 | 0.36109529 | 0.58331751 | 1.58239294e-05\n",
            "       14 | 0.19443653 | 0.41665875 | 0.36110320 | 0.58332542 | 7.91196470e-06\n",
            "       15 | 0.19444049 | 0.41666271 | 0.36110716 | 0.58332938 | 3.95598235e-06\n",
            "       16 | 0.19444247 | 0.41666469 | 0.36110913 | 0.58333136 | 1.97799117e-06\n",
            "       17 | 0.19444346 | 0.41666568 | 0.36111012 | 0.58333234 | 9.88995587e-07\n",
            "\n",
            "¡Convergencia alcanzada!\n"
          ]
        }
      ]
    },
    {
      "cell_type": "markdown",
      "source": [
        " Mostrar solución final"
      ],
      "metadata": {
        "id": "fj567-Lo3g0G"
      }
    },
    {
      "cell_type": "code",
      "source": [
        "print(\"\\nSolución final:\")\n",
        "for i, val in enumerate(solucion):\n",
        "    print(f\"x{i+1} = {val:.8f}\")"
      ],
      "metadata": {
        "colab": {
          "base_uri": "https://localhost:8080/"
        },
        "id": "TI193jzg3jDN",
        "outputId": "d9d91058-9669-4f45-b4ae-9c8a1ee935c4"
      },
      "execution_count": 18,
      "outputs": [
        {
          "output_type": "stream",
          "name": "stdout",
          "text": [
            "\n",
            "Solución final:\n",
            "x1 = 0.19444346\n",
            "x2 = 0.41666568\n",
            "x3 = 0.36111012\n",
            "x4 = 0.58333234\n"
          ]
        }
      ]
    },
    {
      "cell_type": "markdown",
      "source": [
        "Verificamos la solución"
      ],
      "metadata": {
        "id": "_ZXyMQkD3o0C"
      }
    },
    {
      "cell_type": "code",
      "execution_count": 19,
      "metadata": {
        "colab": {
          "base_uri": "https://localhost:8080/"
        },
        "id": "pw-Kru3xv47H",
        "outputId": "bd8b12d0-26df-423b-c0d3-07fd6ea64ca3"
      },
      "outputs": [
        {
          "output_type": "stream",
          "name": "stdout",
          "text": [
            "\n",
            "Verificación (A*x - b):\n",
            "Ecuación 1: -4.94e-07\n",
            "Ecuación 2: -4.94e-07\n",
            "Ecuación 3: -4.94e-07\n",
            "Ecuación 4: -4.94e-07\n"
          ]
        }
      ],
      "source": [
        "print(\"\\nVerificación (A*x - b):\")\n",
        "residual = np.dot(A, solucion) - b\n",
        "for i, val in enumerate(residual):\n",
        "    print(f\"Ecuación {i+1}: {val:.2e}\")"
      ]
    }
  ]
}