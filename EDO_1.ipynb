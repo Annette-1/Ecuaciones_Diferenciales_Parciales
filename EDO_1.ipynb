{
  "cells": [
    {
      "cell_type": "markdown",
      "source": [
        "importamos las librerias"
      ],
      "metadata": {
        "id": "IQ0TCBw3m8pV"
      },
      "id": "IQ0TCBw3m8pV"
    },
    {
      "cell_type": "code",
      "execution_count": 1,
      "id": "f2eb462d",
      "metadata": {
        "id": "f2eb462d"
      },
      "outputs": [],
      "source": [
        "import numpy as np\n",
        "import matplotlib.pyplot as plt\n",
        "#import matplotlib as mpl\n",
        "import sympy as sp\n",
        "import scipy\n",
        "#sympy.init_printing()"
      ]
    },
    {
      "cell_type": "code",
      "execution_count": 2,
      "id": "78815a5f",
      "metadata": {
        "id": "78815a5f"
      },
      "outputs": [],
      "source": [
        "t=sp.symbols('t')\n",
        "p=sp.Function('p')\n",
        "a=sp.symbols('a')\n",
        "b=sp.symbols('b')\n",
        "p0=sp.symbols('p0')"
      ]
    },
    {
      "cell_type": "code",
      "execution_count": 3,
      "id": "bb06cef8",
      "metadata": {
        "id": "bb06cef8"
      },
      "outputs": [],
      "source": [
        "ode=sp.Eq(sp.Derivative(p(t),t)-a*p(t)+b*p(t)*p(t),0)"
      ]
    },
    {
      "cell_type": "code",
      "execution_count": 4,
      "id": "d86b6c7d",
      "metadata": {
        "id": "d86b6c7d",
        "outputId": "a7f6f992-962d-4fe3-a0e4-69420d2ab653",
        "colab": {
          "base_uri": "https://localhost:8080/",
          "height": 52
        }
      },
      "outputs": [
        {
          "output_type": "execute_result",
          "data": {
            "text/plain": [
              "Eq(-a*p(t) + b*p(t)**2 + Derivative(p(t), t), 0)"
            ],
            "text/latex": "$\\displaystyle - a p{\\left(t \\right)} + b p^{2}{\\left(t \\right)} + \\frac{d}{d t} p{\\left(t \\right)} = 0$"
          },
          "metadata": {},
          "execution_count": 4
        }
      ],
      "source": [
        "ode"
      ]
    },
    {
      "cell_type": "code",
      "execution_count": 5,
      "id": "a29350d0",
      "metadata": {
        "id": "a29350d0"
      },
      "outputs": [],
      "source": [
        "sol = sp.dsolve(ode,p(t),ics={p(0):p0})"
      ]
    },
    {
      "cell_type": "code",
      "execution_count": 6,
      "id": "ebdbda76",
      "metadata": {
        "id": "ebdbda76",
        "outputId": "81c42893-6f7f-4cb5-ef76-51f341cfb7a5",
        "colab": {
          "base_uri": "https://localhost:8080/",
          "height": 143
        }
      },
      "outputs": [
        {
          "output_type": "execute_result",
          "data": {
            "text/plain": [
              "Eq(p(t), a*exp(a*(t + log(b*p0/(-a + b*p0))/a))/(b*(exp(a*(t + log(b*p0/(-a + b*p0))/a)) - 1)))"
            ],
            "text/latex": "$\\displaystyle p{\\left(t \\right)} = \\frac{a e^{a \\left(t + \\frac{\\log{\\left(\\frac{b p_{0}}{- a + b p_{0}} \\right)}}{a}\\right)}}{b \\left(e^{a \\left(t + \\frac{\\log{\\left(\\frac{b p_{0}}{- a + b p_{0}} \\right)}}{a}\\right)} - 1\\right)}$"
          },
          "metadata": {},
          "execution_count": 6
        }
      ],
      "source": [
        "sol"
      ]
    },
    {
      "cell_type": "code",
      "execution_count": 7,
      "id": "adbcb1c7",
      "metadata": {
        "id": "adbcb1c7"
      },
      "outputs": [],
      "source": [
        "constants={a:0.03,b:0.0001,p0:5}"
      ]
    },
    {
      "cell_type": "code",
      "execution_count": 8,
      "id": "764537ff",
      "metadata": {
        "id": "764537ff"
      },
      "outputs": [],
      "source": [
        "sol1=sol.subs(constants)"
      ]
    },
    {
      "cell_type": "code",
      "execution_count": 9,
      "id": "71dcff33",
      "metadata": {
        "id": "71dcff33",
        "outputId": "9a381232-ddfc-41d6-93c5-c7e63d58fd45",
        "colab": {
          "base_uri": "https://localhost:8080/",
          "height": 55
        }
      },
      "outputs": [
        {
          "output_type": "execute_result",
          "data": {
            "text/plain": [
              "Eq(p(t), -5.08474576271187*exp(0.03*t)/(-0.0169491525423729*exp(0.03*t) - 1))"
            ],
            "text/latex": "$\\displaystyle p{\\left(t \\right)} = - \\frac{5.08474576271187 e^{0.03 t}}{- 0.0169491525423729 e^{0.03 t} - 1}$"
          },
          "metadata": {},
          "execution_count": 9
        }
      ],
      "source": [
        "sol1"
      ]
    },
    {
      "cell_type": "code",
      "execution_count": 10,
      "id": "e18c7fc7",
      "metadata": {
        "id": "e18c7fc7"
      },
      "outputs": [],
      "source": [
        "constants={a:0.03,b:0.0001,p0:6}"
      ]
    },
    {
      "cell_type": "code",
      "execution_count": 11,
      "id": "fe80e52c",
      "metadata": {
        "id": "fe80e52c"
      },
      "outputs": [],
      "source": [
        "sol2=sol.subs(constants)"
      ]
    },
    {
      "cell_type": "code",
      "execution_count": 12,
      "id": "a84597f4",
      "metadata": {
        "id": "a84597f4",
        "outputId": "7d9b3b0e-d7f6-49dc-a225-0d356c57ae8c",
        "colab": {
          "base_uri": "https://localhost:8080/",
          "height": 55
        }
      },
      "outputs": [
        {
          "output_type": "execute_result",
          "data": {
            "text/plain": [
              "Eq(p(t), -6.12244897959184*exp(0.03*t)/(-0.0204081632653061*exp(0.03*t) - 1))"
            ],
            "text/latex": "$\\displaystyle p{\\left(t \\right)} = - \\frac{6.12244897959184 e^{0.03 t}}{- 0.0204081632653061 e^{0.03 t} - 1}$"
          },
          "metadata": {},
          "execution_count": 12
        }
      ],
      "source": [
        "sol2"
      ]
    },
    {
      "cell_type": "code",
      "execution_count": 13,
      "id": "ab411126",
      "metadata": {
        "id": "ab411126"
      },
      "outputs": [],
      "source": [
        "constants={a:0.03,b:0.0001,p0:7}"
      ]
    },
    {
      "cell_type": "code",
      "execution_count": 14,
      "id": "2e4bb38a",
      "metadata": {
        "id": "2e4bb38a"
      },
      "outputs": [],
      "source": [
        "sol3=sol.subs(constants)"
      ]
    },
    {
      "cell_type": "code",
      "execution_count": 15,
      "id": "9b763cd8",
      "metadata": {
        "id": "9b763cd8",
        "outputId": "98364146-7082-45f7-a4f0-b8c57693d5c4",
        "colab": {
          "base_uri": "https://localhost:8080/",
          "height": 55
        }
      },
      "outputs": [
        {
          "output_type": "execute_result",
          "data": {
            "text/plain": [
              "Eq(p(t), -7.16723549488055*exp(0.03*t)/(-0.0238907849829352*exp(0.03*t) - 1))"
            ],
            "text/latex": "$\\displaystyle p{\\left(t \\right)} = - \\frac{7.16723549488055 e^{0.03 t}}{- 0.0238907849829352 e^{0.03 t} - 1}$"
          },
          "metadata": {},
          "execution_count": 15
        }
      ],
      "source": [
        "sol3"
      ]
    },
    {
      "cell_type": "code",
      "execution_count": 16,
      "id": "70aaa566",
      "metadata": {
        "id": "70aaa566"
      },
      "outputs": [],
      "source": [
        "func1 = sp.lambdify(t,sol1.rhs,'numpy')\n",
        "func2 = sp.lambdify(t,sol2.rhs,'numpy')\n",
        "func3 = sp.lambdify(t,sol3.rhs,'numpy')"
      ]
    },
    {
      "cell_type": "code",
      "execution_count": 17,
      "id": "89479eef",
      "metadata": {
        "id": "89479eef",
        "outputId": "e290bf19-c796-406d-ffac-ca5b12cfd274",
        "colab": {
          "base_uri": "https://localhost:8080/",
          "height": 408
        }
      },
      "outputs": [
        {
          "output_type": "error",
          "ename": "AttributeError",
          "evalue": "Module 'scipy' has no attribute 'arange'",
          "traceback": [
            "\u001b[0;31m---------------------------------------------------------------------------\u001b[0m",
            "\u001b[0;31mKeyError\u001b[0m                                  Traceback (most recent call last)",
            "\u001b[0;32m/usr/local/lib/python3.11/dist-packages/scipy/__init__.py\u001b[0m in \u001b[0;36m__getattr__\u001b[0;34m(name)\u001b[0m\n\u001b[1;32m    136\u001b[0m         \u001b[0;32mtry\u001b[0m\u001b[0;34m:\u001b[0m\u001b[0;34m\u001b[0m\u001b[0;34m\u001b[0m\u001b[0m\n\u001b[0;32m--> 137\u001b[0;31m             \u001b[0;32mreturn\u001b[0m \u001b[0mglobals\u001b[0m\u001b[0;34m(\u001b[0m\u001b[0;34m)\u001b[0m\u001b[0;34m[\u001b[0m\u001b[0mname\u001b[0m\u001b[0;34m]\u001b[0m\u001b[0;34m\u001b[0m\u001b[0;34m\u001b[0m\u001b[0m\n\u001b[0m\u001b[1;32m    138\u001b[0m         \u001b[0;32mexcept\u001b[0m \u001b[0mKeyError\u001b[0m\u001b[0;34m:\u001b[0m\u001b[0;34m\u001b[0m\u001b[0;34m\u001b[0m\u001b[0m\n",
            "\u001b[0;31mKeyError\u001b[0m: 'arange'",
            "\nDuring handling of the above exception, another exception occurred:\n",
            "\u001b[0;31mAttributeError\u001b[0m                            Traceback (most recent call last)",
            "\u001b[0;32m<ipython-input-17-f144b5a11483>\u001b[0m in \u001b[0;36m<cell line: 0>\u001b[0;34m()\u001b[0m\n\u001b[0;32m----> 1\u001b[0;31m \u001b[0mtt\u001b[0m \u001b[0;34m=\u001b[0m \u001b[0mscipy\u001b[0m\u001b[0;34m.\u001b[0m\u001b[0marange\u001b[0m\u001b[0;34m(\u001b[0m\u001b[0;36m0\u001b[0m\u001b[0;34m,\u001b[0m\u001b[0;36m200\u001b[0m\u001b[0;34m,\u001b[0m\u001b[0;36m1\u001b[0m\u001b[0;34m)\u001b[0m\u001b[0;34m\u001b[0m\u001b[0;34m\u001b[0m\u001b[0m\n\u001b[0m\u001b[1;32m      2\u001b[0m \u001b[0mpp1\u001b[0m \u001b[0;34m=\u001b[0m \u001b[0mfunc1\u001b[0m\u001b[0;34m(\u001b[0m\u001b[0mtt\u001b[0m\u001b[0;34m)\u001b[0m\u001b[0;34m\u001b[0m\u001b[0;34m\u001b[0m\u001b[0m\n\u001b[1;32m      3\u001b[0m \u001b[0mpp2\u001b[0m \u001b[0;34m=\u001b[0m \u001b[0mfunc2\u001b[0m\u001b[0;34m(\u001b[0m\u001b[0mtt\u001b[0m\u001b[0;34m)\u001b[0m\u001b[0;34m\u001b[0m\u001b[0;34m\u001b[0m\u001b[0m\n\u001b[1;32m      4\u001b[0m \u001b[0mpp3\u001b[0m \u001b[0;34m=\u001b[0m \u001b[0mfunc3\u001b[0m\u001b[0;34m(\u001b[0m\u001b[0mtt\u001b[0m\u001b[0;34m)\u001b[0m\u001b[0;34m\u001b[0m\u001b[0;34m\u001b[0m\u001b[0m\n",
            "\u001b[0;32m/usr/local/lib/python3.11/dist-packages/scipy/__init__.py\u001b[0m in \u001b[0;36m__getattr__\u001b[0;34m(name)\u001b[0m\n\u001b[1;32m    137\u001b[0m             \u001b[0;32mreturn\u001b[0m \u001b[0mglobals\u001b[0m\u001b[0;34m(\u001b[0m\u001b[0;34m)\u001b[0m\u001b[0;34m[\u001b[0m\u001b[0mname\u001b[0m\u001b[0;34m]\u001b[0m\u001b[0;34m\u001b[0m\u001b[0;34m\u001b[0m\u001b[0m\n\u001b[1;32m    138\u001b[0m         \u001b[0;32mexcept\u001b[0m \u001b[0mKeyError\u001b[0m\u001b[0;34m:\u001b[0m\u001b[0;34m\u001b[0m\u001b[0;34m\u001b[0m\u001b[0m\n\u001b[0;32m--> 139\u001b[0;31m             raise AttributeError(\n\u001b[0m\u001b[1;32m    140\u001b[0m                 \u001b[0;34mf\"Module 'scipy' has no attribute '{name}'\"\u001b[0m\u001b[0;34m\u001b[0m\u001b[0;34m\u001b[0m\u001b[0m\n\u001b[1;32m    141\u001b[0m             )\n",
            "\u001b[0;31mAttributeError\u001b[0m: Module 'scipy' has no attribute 'arange'"
          ]
        }
      ],
      "source": [
        "tt = scipy.arange(0,200,1)\n",
        "pp1 = func1(tt)\n",
        "pp2 = func2(tt)\n",
        "pp3 = func3(tt)"
      ]
    },
    {
      "cell_type": "code",
      "execution_count": null,
      "id": "1d474122",
      "metadata": {
        "id": "1d474122"
      },
      "outputs": [],
      "source": [
        "plt.plot(tt,pp1,'r',tt,pp2,'b',tt,pp3,'g')\n",
        "plt.xlabel('tiempo t')\n",
        "plt.ylabel('Poblacion p(t)')\n",
        "plt.show()"
      ]
    },
    {
      "cell_type": "code",
      "execution_count": null,
      "id": "951000dc",
      "metadata": {
        "id": "951000dc"
      },
      "outputs": [],
      "source": [
        "sp.classify_ode(ode)"
      ]
    },
    {
      "cell_type": "code",
      "execution_count": null,
      "id": "733ae3a7",
      "metadata": {
        "id": "733ae3a7"
      },
      "outputs": [],
      "source": [
        "sol=sp.dsolve(ode,p(t))"
      ]
    },
    {
      "cell_type": "code",
      "execution_count": null,
      "id": "3a0e920f",
      "metadata": {
        "id": "3a0e920f"
      },
      "outputs": [],
      "source": [
        "sol"
      ]
    },
    {
      "cell_type": "code",
      "execution_count": null,
      "id": "8877aad6",
      "metadata": {
        "id": "8877aad6"
      },
      "outputs": [],
      "source": [
        "sp.checkodesol(ode,sol)"
      ]
    },
    {
      "cell_type": "markdown",
      "id": "d674f1ef",
      "metadata": {
        "id": "d674f1ef"
      },
      "source": [
        "# Ecuación de Lagrange"
      ]
    },
    {
      "cell_type": "code",
      "execution_count": null,
      "id": "cbc0ea84",
      "metadata": {
        "id": "cbc0ea84"
      },
      "outputs": [],
      "source": [
        "from sympy import *"
      ]
    },
    {
      "cell_type": "code",
      "execution_count": null,
      "id": "2e06ff6f",
      "metadata": {
        "id": "2e06ff6f"
      },
      "outputs": [],
      "source": [
        "x=sp.symbols('x')\n",
        "y=sp.Function('y')"
      ]
    },
    {
      "cell_type": "code",
      "execution_count": null,
      "id": "446f4445",
      "metadata": {
        "id": "446f4445"
      },
      "outputs": [],
      "source": [
        "ode2=sp.Eq(log(sp.Derivative(y(x),x))+2*x*sp.Derivative(y(x),x)-y(x),0)\n",
        "sol2 = sp.dsolve(ode2,y(x))"
      ]
    },
    {
      "cell_type": "code",
      "execution_count": null,
      "id": "cedf8cb3",
      "metadata": {
        "id": "cedf8cb3"
      },
      "outputs": [],
      "source": [
        "ode2"
      ]
    },
    {
      "cell_type": "code",
      "execution_count": null,
      "id": "a967fd7b",
      "metadata": {
        "id": "a967fd7b"
      },
      "outputs": [],
      "source": [
        "sol2"
      ]
    },
    {
      "cell_type": "code",
      "execution_count": null,
      "id": "6c36224b",
      "metadata": {
        "id": "6c36224b"
      },
      "outputs": [],
      "source": []
    }
  ],
  "metadata": {
    "kernelspec": {
      "display_name": "Python 3 (ipykernel)",
      "language": "python",
      "name": "python3"
    },
    "language_info": {
      "codemirror_mode": {
        "name": "ipython",
        "version": 3
      },
      "file_extension": ".py",
      "mimetype": "text/x-python",
      "name": "python",
      "nbconvert_exporter": "python",
      "pygments_lexer": "ipython3",
      "version": "3.7.3"
    },
    "colab": {
      "provenance": []
    }
  },
  "nbformat": 4,
  "nbformat_minor": 5
}